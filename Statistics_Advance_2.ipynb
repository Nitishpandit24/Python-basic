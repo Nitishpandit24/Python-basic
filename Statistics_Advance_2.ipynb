{
  "nbformat": 4,
  "nbformat_minor": 0,
  "metadata": {
    "colab": {
      "provenance": []
    },
    "kernelspec": {
      "name": "python3",
      "display_name": "Python 3"
    },
    "language_info": {
      "name": "python"
    }
  },
  "cells": [
    {
      "cell_type": "code",
      "execution_count": null,
      "metadata": {
        "id": "sjnCENj4BhWl"
      },
      "outputs": [],
      "source": []
    },
    {
      "cell_type": "markdown",
      "source": [
        "Question1: Define the z-statistic and explain its relationship to the standard normal distribution. How is the\n",
        "z-statistic used in hypothesis testing?"
      ],
      "metadata": {
        "id": "XfCkUWGeCyFN"
      }
    },
    {
      "cell_type": "markdown",
      "source": [
        "Ans:- The z-statistic (or z-score) is a measure that describes a data point's position relative to the mean of a group of data points.\n",
        "\n",
        "Z= (x - μ)/σ\n",
        "\n",
        "where:\n",
        "\n",
        "𝑋\n",
        " is the value being measured,\n",
        "\n",
        "𝜇\n",
        " is the mean of the population,\n",
        "\n",
        "𝜎\n",
        " is the standard deviation of the population.\n",
        "\n",
        "**Relationship to the Standard Normal Distribution:**\n",
        "\n",
        "The z-statistic converts any normal distribution into the standard normal distribution, which has a mean of 0 and a standard deviation of 1. The standard normal distribution is a specific case of the normal distribution and is represented by the z-distribution. Each z-score represents the number of standard deviations a data point is from the mean.\n",
        "\n",
        "In hypothesis testing, the z-statistic is used to determine how far away a sample mean is from the population mean. This helps in deciding whether to reject the null hypothesis."
      ],
      "metadata": {
        "id": "dlAg6an2C02u"
      }
    },
    {
      "cell_type": "code",
      "source": [],
      "metadata": {
        "id": "CJLFw7MgG4tO"
      },
      "execution_count": null,
      "outputs": []
    },
    {
      "cell_type": "markdown",
      "source": [
        "Question2 : What is a p-value, and how is it used in hypothesis testing? What does it mean if the p-value is\n",
        "very small (e.g., 0.01)?\n"
      ],
      "metadata": {
        "id": "VvDML41yG4-8"
      }
    },
    {
      "cell_type": "markdown",
      "source": [
        "Ans:-A p-value (probability value) is a measure in statistical hypothesis testing that helps determine the significance of the results. It represents the probability of obtaining test results at least as extreme as the results actually observed, under the assumption that the null hypothesis is true.\n",
        "\n",
        "\n",
        "In hypothesis testing, the p-value helps you decide whether to reject the null hypothesis (\n",
        "𝐻0\n",
        ").\n",
        "\n",
        "If the p-value is very small (e.g., 0.01), it indicates that the observed data is highly unlikely under the assumption of the null hypothesis. This typically means:\n",
        "\n",
        "There is strong evidence against the null hypothesis.\n",
        "\n",
        "The results are statistically significant.\n",
        "\n",
        "The likelihood of the observed result occurring by random chance is very low.\n"
      ],
      "metadata": {
        "id": "DGYbHlSPG75V"
      }
    },
    {
      "cell_type": "code",
      "source": [],
      "metadata": {
        "id": "n_B3TRioHbpV"
      },
      "execution_count": null,
      "outputs": []
    },
    {
      "cell_type": "markdown",
      "source": [
        "Question3: Compare and contrast the binomial and Bernoulli distributions."
      ],
      "metadata": {
        "id": "VuNVWxQNHb9d"
      }
    },
    {
      "cell_type": "markdown",
      "source": [
        "Ans:- A Bernoulli distribution is a discrete probability distribution for a random variable which has exactly two possible outcomes: success (1) and failure (0). It's the simplest distribution that can be used to model a binary outcome.\n",
        "\n",
        "A binomial distribution is a discrete probability distribution of the number of successes in a sequence of\n",
        "𝑛\n",
        " independent experiments, each with the same probability of success\n",
        "𝑝\n",
        ". Essentially, it's the sum of\n",
        "𝑛\n",
        " Bernoulli trials."
      ],
      "metadata": {
        "id": "sjNOHtcpHeN3"
      }
    },
    {
      "cell_type": "code",
      "source": [],
      "metadata": {
        "id": "A8BEZprpH_Ru"
      },
      "execution_count": null,
      "outputs": []
    },
    {
      "cell_type": "markdown",
      "source": [
        "Question 4: Under what conditions is the binomial distribution used, and how does it relate to the Bernoulli\n",
        "distribution?"
      ],
      "metadata": {
        "id": "cQMdvJTdH-om"
      }
    },
    {
      "cell_type": "markdown",
      "source": [
        "Ans:- **Conditions for Using the Binomial Distribution:**\n",
        "\n",
        "The binomial distribution is used under the following conditions:\n",
        "\n",
        "Fixed Number of Trials (\n",
        "𝑛\n",
        "): There are a specific number of independent trials.\n",
        "\n",
        "Binary Outcomes: Each trial has exactly two possible outcomes, often referred to as \"success\" and \"failure.\"\n",
        "\n",
        "Independent Trials: The outcome of one trial does not affect the outcome of another.\n",
        "\n",
        "Constant Probability (\n",
        "𝑝\n",
        "): The probability of success remains the same for each trial.\n",
        "\n",
        "**Relation to the Bernoulli Distribution:**\n",
        "\n",
        "The binomial distribution is directly related to the Bernoulli distribution. Here’s how:\n",
        "\n",
        "Bernoulli Distribution: Models the outcome of a single trial, which can either be a success (with probability\n",
        "𝑝\n",
        ") or a failure (with probability\n",
        "1\n",
        "−\n",
        "𝑝\n",
        "). It is the simplest case of a discrete probability distribution with only one trial.\n",
        "\n",
        "Binomial Distribution: Models the number of successes in a fixed number of\n",
        "𝑛\n",
        " independent Bernoulli trials. Essentially, it is the sum of\n",
        "𝑛\n",
        " Bernoulli trials."
      ],
      "metadata": {
        "id": "7fGjCoThICm9"
      }
    },
    {
      "cell_type": "code",
      "source": [],
      "metadata": {
        "id": "GwukRfPBIYEO"
      },
      "execution_count": null,
      "outputs": []
    },
    {
      "cell_type": "markdown",
      "source": [
        "Question5: What are the key properties of the Poisson distribution, and when is it appropriate to use this\n",
        "distribution?\n",
        "\n",
        "\n",
        "\n"
      ],
      "metadata": {
        "id": "S2GNG6VyIYR9"
      }
    },
    {
      "cell_type": "markdown",
      "source": [
        "Ans:-\n",
        "\n",
        "**Key Properties:**\n",
        "\n",
        "Discreteness: The Poisson distribution is a discrete probability distribution, meaning it deals with events that occur at specific points in time.\n",
        "\n",
        "Mean and Variance: For a Poisson distribution, both the mean (λ) and the variance are equal. This is a unique property not commonly found in other distributions.\n",
        "\n",
        "Parameter: The distribution is characterized by the parameter λ (lambda), which represents the average number of occurrences in a fixed interval of time or space.\n",
        "\n",
        "**The Poisson distribution is appropriate in scenarios where:**\n",
        "\n",
        "Events are rare: It’s useful for modeling the number of rare events occurring in a fixed interval.\n",
        "\n",
        "Events occur independently: The occurrence of one event does not affect the occurrence of another.\n",
        "\n",
        "Events occur at a constant rate: The average number of events (\n",
        "𝜆\n",
        ") is constant over time or space.\n",
        "\n",
        "Small probabilities over large trials: It’s suitable when you have a large number of trials and a small probability of success in each trial."
      ],
      "metadata": {
        "id": "rQmCD-PyIaof"
      }
    },
    {
      "cell_type": "code",
      "source": [],
      "metadata": {
        "id": "8nbit6uTIya9"
      },
      "execution_count": null,
      "outputs": []
    },
    {
      "cell_type": "markdown",
      "source": [
        "Question6: Define the terms \"probability distribution\" and \"probability density function\" (PDF). How does a\n",
        "PDF differ from a probability mass function (PMF)?"
      ],
      "metadata": {
        "id": "DAtLm0tQIyrW"
      }
    },
    {
      "cell_type": "markdown",
      "source": [
        "Ans:- A probability distribution describes how the values of a random variable are distributed. It specifies the probabilities of different possible outcomes. There are two main types of probability distributions: discrete and continuous.\n",
        "\n",
        "A probability density function (PDF) is used to specify the probability distribution of a continuous random variable. It describes the relative likelihood of the random variable taking on a particular value. The integral of the PDF over a given range gives the probability that the random variable falls within that range.\n",
        "\n",
        "**Differences Between PDF and PMF:**\n",
        "\n",
        "Nature of Random Variable: The PDF is used for continuous random variables, while the PMF is used for discrete random variables.\n",
        "\n",
        "Probability Calculation: For a PDF, the probability of the random variable taking on a specific value is zero; probabilities are calculated over intervals. For a PMF, the probability of the random variable taking on a specific value is a positive number.\n",
        "\n",
        "Integral vs. Sum: The PDF involves integration to find probabilities over intervals, whereas the PMF involves summation."
      ],
      "metadata": {
        "id": "m0q6ZCvJI0yl"
      }
    },
    {
      "cell_type": "code",
      "source": [],
      "metadata": {
        "id": "49h5VMF6MAEE"
      },
      "execution_count": null,
      "outputs": []
    },
    {
      "cell_type": "markdown",
      "source": [
        "Question7: Explain the Central Limit Theorem (CLT) with example."
      ],
      "metadata": {
        "id": "U02n61MfMAOQ"
      }
    },
    {
      "cell_type": "markdown",
      "source": [
        "Ans:- The Central Limit Theorem (CLT) states that the distribution of the sum (or average) of a large number of independent, identically distributed (i.i.d.) random variables will approximate a normal (Gaussian) distribution, regardless of the original distribution of the variables.\n",
        "\n",
        "**Example:**\n",
        "\n",
        "When rolling a fair six-sided die (with outcomes 1, 2, 3, 4, 5, and 6), and we do this 10 times. Each roll can be considered an independent, identically distributed random variable with a mean (μ) of 3.5 and a variance (σ²) of 2.92.\n",
        "\n",
        "Now, if we roll the die 10 times and calculate the average outcome. If we repeat this experiment many times, the distribution of the average outcomes will approximate a normal distribution. As the number of rolls increases, the shape of the distribution becomes more like a bell curve, regardless of the fact that the original distribution (the dice rolls) is uniform."
      ],
      "metadata": {
        "id": "uevMJq9nMDBk"
      }
    },
    {
      "cell_type": "code",
      "source": [],
      "metadata": {
        "id": "UevJi3m7OlA1"
      },
      "execution_count": null,
      "outputs": []
    },
    {
      "cell_type": "markdown",
      "source": [
        "Question8: Compare z-scores and t-scores. When should you use a z-score, and when should a t-score be applied instead?"
      ],
      "metadata": {
        "id": "wlwnfjwIOlKU"
      }
    },
    {
      "cell_type": "markdown",
      "source": [
        "Ans:-\n",
        "\n",
        " Z-Scores:\n",
        "\n",
        "Definition: A z-score (or standard score) indicates how many standard deviations a data point is from the mean of a distribution.\n",
        "\n",
        "Formula:\n",
        "𝑧\n",
        "=\n",
        "𝑋\n",
        "−\n",
        "𝜇\n",
        "𝜎\n",
        "\n",
        "𝑋\n",
        " = value in question\n",
        "\n",
        "𝜇\n",
        " = mean of the population\n",
        "\n",
        "𝜎\n",
        " = standard deviation of the population\n",
        "\n",
        "Usage: Used when the population standard deviation is known and the sample size is large (typically\n",
        "𝑛\n",
        ">\n",
        "30\n",
        ").\n",
        "\n",
        "Distribution: Follows a standard normal distribution (mean = 0, standard deviation = 1).\n",
        "\n",
        "T-Scores:\n",
        "\n",
        "\n",
        "Definition: A t-score (or t-statistic) is used when the sample size is small and/or the population standard deviation is unknown.\n",
        "\n",
        "Formula:\n",
        "𝑡\n",
        "=\n",
        "𝑋\n",
        "−\n",
        "𝜇\n",
        "𝑠\n",
        "/\n",
        "𝑛\n",
        "\n",
        "𝑋\n",
        " = value in question\n",
        "\n",
        "𝜇\n",
        " = mean of the sample\n",
        "\n",
        "𝑠\n",
        " = sample standard deviation\n",
        "\n",
        "𝑛\n",
        " = sample size\n",
        "\n",
        "Usage: Applied when the sample size is small (typically\n",
        "𝑛\n",
        "≤\n",
        "30\n",
        ") or when the population standard deviation is not known.\n",
        "\n",
        "Distribution: Follows a t-distribution, which is similar to the normal distribution but has heavier tails. As the sample size increases, the t-distribution approaches the normal distribution."
      ],
      "metadata": {
        "id": "FEwHvAklOpmc"
      }
    },
    {
      "cell_type": "code",
      "source": [],
      "metadata": {
        "id": "rze-LcW_QJSF"
      },
      "execution_count": null,
      "outputs": []
    },
    {
      "cell_type": "markdown",
      "source": [
        "Question9: Given a sample mean of 105, a population mean of 100, a standard deviation of 15, and a sample\n",
        "size of 25, calculate the z-score and p-value. Based on a significance level of 0.05, do you reject or fail to\n",
        "reject the null hypothesis?\n",
        "\n",
        " Task: Write Python code to calculate the z-score and p-value for the given data.\n",
        "\n",
        "Objective: Apply the formula for the z-score and interpret the p-value for hypothesis testing."
      ],
      "metadata": {
        "id": "J4Q5JrtMQJbM"
      }
    },
    {
      "cell_type": "code",
      "source": [
        "import scipy.stats as stats\n",
        "\n",
        "sample_mean = 105\n",
        "population_mean = 100\n",
        "standard_deviation = 15\n",
        "sample_size = 25\n",
        "\n",
        "standard_error = standard_deviation / (sample_size ** 0.5)\n",
        "\n",
        "z_score = (sample_mean - population_mean) / standard_error\n",
        "print(f\"Z-Score: {z_score}\")\n",
        "\n",
        "p_value = 2 * (1 - stats.norm.cdf(abs(z_score)))\n",
        "print(f\"P-Value: {p_value}\")\n",
        "\n",
        "significance_level = 0.05\n",
        "if p_value < significance_level:\n",
        "    print(\"Reject the null hypothesis\")\n",
        "else:\n",
        "    print(\"Fail to reject the null hypothesis\")\n"
      ],
      "metadata": {
        "colab": {
          "base_uri": "https://localhost:8080/"
        },
        "id": "e8Aha6QeQ32U",
        "outputId": "395e3ef6-c46f-40f2-dd48-3756889fa95e"
      },
      "execution_count": 1,
      "outputs": [
        {
          "output_type": "stream",
          "name": "stdout",
          "text": [
            "Z-Score: 1.6666666666666667\n",
            "P-Value: 0.09558070454562939\n",
            "Fail to reject the null hypothesis\n"
          ]
        }
      ]
    },
    {
      "cell_type": "code",
      "source": [],
      "metadata": {
        "id": "ai9QWrfrQ-p8"
      },
      "execution_count": 1,
      "outputs": []
    },
    {
      "cell_type": "markdown",
      "source": [
        "Question10: Simulate a binomial distribution with 10 trials and a probability of success of 0.6 using Python.\n",
        "Generate 1,000 samples and plot the distribution. What is the expected mean and variance?\n",
        "\n",
        "Task: Use Python to generate the data, plot the distribution, and calculate the mean and variance.\n",
        "\n",
        "Objective: Understand the properties of a binomial distribution and verify them through simulation."
      ],
      "metadata": {
        "id": "_mKdGOf9RALe"
      }
    },
    {
      "cell_type": "code",
      "source": [
        "import numpy as np\n",
        "import matplotlib.pyplot as plt\n",
        "\n",
        "n_trials = 10\n",
        "p_success = 0.6\n",
        "n_samples = 1000\n",
        "\n",
        "samples = np.random.binomial(n_trials, p_success, n_samples)\n",
        "\n",
        "plt.hist(samples, bins=range(n_trials + 2), density=True, edgecolor='k', alpha=0.75)\n",
        "plt.title('Binomial Distribution with 10 Trials and Probability of Success 0.6')\n",
        "plt.xlabel('Number of Successes')\n",
        "plt.ylabel('Probability')\n",
        "plt.show()\n",
        "\n",
        "mean =np.mean(samples)\n",
        "variance = np.var(samples)\n",
        "\n",
        "print(f'Expected Mean: {mean}')\n",
        "print(f'Expected Variance: {variance}')"
      ],
      "metadata": {
        "colab": {
          "base_uri": "https://localhost:8080/",
          "height": 507
        },
        "id": "yasNwIb-RCpE",
        "outputId": "07af8ee0-578c-486b-ae5a-5634410470ae"
      },
      "execution_count": 2,
      "outputs": [
        {
          "output_type": "display_data",
          "data": {
            "text/plain": [
              "<Figure size 640x480 with 1 Axes>"
            ],
            "image/png": "[encoded data removed]"
          },
          "metadata": {}
        },
        {
          "output_type": "stream",
          "name": "stdout",
          "text": [
            "Expected Mean: 5.958\n",
            "Expected Variance: 2.2102360000000005\n"
          ]
        }
      ]
    },
    {
      "cell_type": "code",
      "source": [],
      "metadata": {
        "id": "NDgVAMPxRRAU"
      },
      "execution_count": 2,
      "outputs": []
    }
  ]
}