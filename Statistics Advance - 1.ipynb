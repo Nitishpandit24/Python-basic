{
  "nbformat": 4,
  "nbformat_minor": 0,
  "metadata": {
    "colab": {
      "provenance": []
    },
    "kernelspec": {
      "name": "python3",
      "display_name": "Python 3"
    },
    "language_info": {
      "name": "python"
    }
  },
  "cells": [
    {
      "cell_type": "code",
      "execution_count": 2,
      "metadata": {
        "id": "rosUI7Qoxf7e"
      },
      "outputs": [],
      "source": []
    },
    {
      "cell_type": "markdown",
      "source": [
        "1. Explain the properties of the F-distribution."
      ],
      "metadata": {
        "id": "9WeIppfWxwkZ"
      }
    },
    {
      "cell_type": "markdown",
      "source": [
        "1.Non-negative values: The F-distribution is defined only for non-negative values. It cannot take on negative values.\n",
        "\n",
        "2.Positively skewed: The F-distribution is skewed to the right, meaning its tail extends further to the right than to the left. The degree of skewness decreases as the degrees of freedom increase.\n",
        "\n",
        "3.Two sets of degrees of freedom: The F-distribution is characterized by two parameters, each representing degrees of freedom:\n",
        "Numerator degrees of freedom (df1): This represents the degrees of freedom associated with the numerator of the F-statistic.\n",
        "Denominator degrees of freedom (df2): This represents the degrees of freedom associated with the denominator of the F-statistic.\n",
        "\n",
        "4.Shape depends on degrees of freedom: The shape of the F-distribution varies depending on the values of df1 and df2. As both df1 and df2 increase, the F-distribution approaches a normal distribution.\n",
        "\n",
        "5.Used in hypothesis testing: The F-distribution is commonly used in hypothesis testing, particularly in the following contexts:\n",
        "\n",
        "Analysis of variance (ANOVA): To test whether there are statistically significant differences between the means of multiple groups.\n",
        "\n",
        "Comparing variances: To test whether the variances of two populations are equal.\n",
        "\n"
      ],
      "metadata": {
        "id": "2DcVC6Od3dYB"
      }
    },
    {
      "cell_type": "code",
      "source": [],
      "metadata": {
        "id": "oDLY5evCxzMz"
      },
      "execution_count": 2,
      "outputs": []
    },
    {
      "cell_type": "markdown",
      "source": [
        "2. In which types of statistical tests is the F-distribution used, and why is it appropriate for these tests?"
      ],
      "metadata": {
        "id": "vRevLKOC3y4v"
      }
    },
    {
      "cell_type": "markdown",
      "source": [
        "Ans:- The F-distribution is primarily used in two major types of statistical tests:\n",
        "\n",
        "**Analysis of Variance (ANOVA):**\n",
        "\n",
        "Purpose: ANOVA tests whether there are statistically significant differences between the means of three or more groups.\n",
        "Why F-distribution is appropriate:\n",
        "ANOVA calculates the F-statistic by comparing the variance between groups to the variance within groups.\n",
        "If the variance between groups is significantly larger than the variance within groups, it suggests that the group means are likely different.\n",
        "The F-distribution provides the probability of observing such a large F-statistic if the null hypothesis (that all group means are equal) is true.\n",
        "\n",
        "**Comparing Variances:**\n",
        "\n",
        "Purpose: To determine if the variances of two populations (or two samples drawn from them) are significantly different.\n",
        "Why F-distribution is appropriate:\n",
        "The F-statistic in this case is calculated as the ratio of the two sample variances.\n",
        "If the F-statistic is significantly larger than 1 (or significantly smaller than 1 if the first variance is expected to be smaller), it suggests that the population variances are likely different.\n",
        "The F-distribution helps determine the critical value for rejecting the null hypothesis (that the variances are equal).\n",
        "In summary:\n",
        "\n",
        "The F-distribution is particularly well-suited for these tests because:\n",
        "\n",
        "It deals with ratios of variances, which are central to both ANOVA and variance comparison tests.\n",
        "Its shape is determined by degrees of freedom, allowing for flexibility in accommodating different sample sizes and experimental designs.\n",
        "By using the F-distribution, researchers can make inferences about population means or variances based on the observed data."
      ],
      "metadata": {
        "id": "RXsRNAad31ju"
      }
    },
    {
      "cell_type": "code",
      "source": [],
      "metadata": {
        "id": "Gmsm3EygAfsv"
      },
      "execution_count": 2,
      "outputs": []
    },
    {
      "cell_type": "markdown",
      "source": [
        "3. What are the key assumptions required for conducting an F-test to compare the variances of two\n",
        "populations?"
      ],
      "metadata": {
        "id": "--d5Z5o5AgIt"
      }
    },
    {
      "cell_type": "markdown",
      "source": [
        "Ans:-\n",
        "** Normality**: Both populations from which the samples are drawn must be normally distributed. This assumption is crucial because the F-distribution is derived under the assumption of normality. If the populations are significantly non-normal, the F-test may not be accurate.\n",
        "\n",
        "**Independence**: The samples drawn from the two populations must be independent of each other. This means that the selection of one sample should not influence the selection of the other sample.\n",
        "\n",
        "**Homoscedasticity**: This assumption, also known as homogeneity of variance, states that the variances of the two populations being compared must be equal. This is a critical assumption for the F-test, as it directly tests for the equality of variances. If the variances are significantly different, the F-test may not provide reliable results."
      ],
      "metadata": {
        "id": "jQfNGtlZAj7E"
      }
    },
    {
      "cell_type": "code",
      "source": [],
      "metadata": {
        "id": "ehw0VwZVQqSI"
      },
      "execution_count": 2,
      "outputs": []
    },
    {
      "cell_type": "markdown",
      "source": [
        "4. What is the purpose of ANOVA, and how does it differ from a t-test?\n",
        "\n",
        "\n",
        "\n"
      ],
      "metadata": {
        "id": "cvOlkXXWQqi2"
      }
    },
    {
      "cell_type": "markdown",
      "source": [
        "Ans:-\n",
        "\n",
        " Detecting differences between multiple group means: ANOVA (Analysis of Variance) is a statistical method designed to determine whether there are statistically significant differences between the means of three or more groups.\n",
        "\n",
        "Identifying sources of variation: It helps identify the sources of variation in the data, separating the variation between groups from the variation within groups.\n",
        "\n",
        "\n",
        "**Difference from t-test**-\n",
        "\n",
        "Number of groups:\n",
        "\n",
        "t-test: Compares the means of only two groups.\n",
        "ANOVA: Compares the means of three or more groups.\n",
        "\n",
        "Type of comparison:\n",
        "\n",
        "t-test: Directly compares the means of two groups.\n",
        "ANOVA: Initially tests for any overall differences between the group means. If a significant difference is found, further tests (post-hoc tests) can be conducted to determine which specific groups differ from each other.\n",
        "\n",
        "Flexibility:\n",
        "\n",
        "t-test: Limited to two groups.\n",
        "ANOVA: Can handle multiple groups, making it more versatile for analyzing data with multiple categories or treatments.\n",
        "\n"
      ],
      "metadata": {
        "id": "eSgU9cooQtb2"
      }
    },
    {
      "cell_type": "code",
      "source": [],
      "metadata": {
        "id": "DfkFk3DCSltR"
      },
      "execution_count": 2,
      "outputs": []
    },
    {
      "cell_type": "markdown",
      "source": [
        "5. Explain when and why you would use a one-way ANOVA instead of multiple t-tests when comparing more\n",
        "than two groups."
      ],
      "metadata": {
        "id": "AzODxnN1Sl62"
      }
    },
    {
      "cell_type": "markdown",
      "source": [
        "Ans:-\n",
        "\n",
        "Controls Type I Error Rate:\n",
        "\n",
        "Multiple t-tests: Conducting multiple t-tests increases the likelihood of a Type I error (falsely rejecting the null hypothesis). This is because each comparison has a chance of producing a statistically significant result purely by chance.\n",
        "\n",
        "One-way ANOVA: By performing a single overall test, ANOVA maintains a stricter control over the Type I error rate, reducing the risk of false positives.\n",
        "\n",
        "More Powerful:\n",
        "\n",
        "One-way ANOVA: By analyzing all groups simultaneously, ANOVA can detect smaller differences between group means that might be missed by individual t-tests.\n",
        "\n",
        "Provides Overall Picture:\n",
        "\n",
        "One-way ANOVA: Initially determines if there are any significant differences among the group means. If significant differences exist, post-hoc tests can then be used to pinpoint which specific groups differ from each other. This provides a more comprehensive understanding of the data."
      ],
      "metadata": {
        "id": "eT2t2GpESoTH"
      }
    },
    {
      "cell_type": "code",
      "source": [],
      "metadata": {
        "id": "rQ3lNXbnTIgF"
      },
      "execution_count": 2,
      "outputs": []
    },
    {
      "cell_type": "markdown",
      "source": [
        "6. Explain how variance is partitioned in ANOVA into between-group variance and within-group variance.\n",
        "How does this partitioning contribute to the calculation of the F-statistic?"
      ],
      "metadata": {
        "id": "pMHj2yvKTIpN"
      }
    },
    {
      "cell_type": "markdown",
      "source": [
        "Ans:- In ANOVA, the total variance in a dataset is partitioned into two components:\n",
        "\n",
        "Between-group variance: This component measures the variability between the means of different groups. It reflects how much the group means differ from the overall mean.\n",
        "\n",
        "Within-group variance: This component measures the variability within each group. It reflects the natural variability or \"noise\" within each group, independent of the group differences.\n",
        "\n",
        "**Calculation of the F-statistic**\n",
        "\n",
        "The F-statistic in ANOVA is calculated as the ratio of the between-group variance to the within-group variance:\n",
        "\n",
        "F = Between-group variance / Within-group variance\n",
        "\n",
        "Larger F-statistic: A larger F-statistic indicates that the between-group variance is substantially greater than the within-group variance. This suggests that the differences between the group means are unlikely to be due to chance.\n",
        "\n",
        "Smaller F-statistic: A smaller F-statistic suggests that the differences between the group means are not significant, and the observed variation is primarily due to within-group variability.\n",
        "\n",
        "**Significance Testing**:\n",
        "\n",
        "The calculated F-statistic is compared to a critical value from the F-distribution. If the calculated F-statistic is greater than the critical value, we reject the null hypothesis and conclude that there are significant differences between the group means."
      ],
      "metadata": {
        "id": "Sfal3G0_TLgl"
      }
    },
    {
      "cell_type": "code",
      "source": [],
      "metadata": {
        "id": "huGbnOeiVCcu"
      },
      "execution_count": 2,
      "outputs": []
    },
    {
      "cell_type": "markdown",
      "source": [
        "7. Compare the classical (frequentist) approach to ANOVA with the Bayesian approach. What are the key\n",
        "differences in terms of how they handle uncertainty, parameter estimation, and hypothesis testing?"
      ],
      "metadata": {
        "id": "Pd9UGLs1VCyd"
      }
    },
    {
      "cell_type": "markdown",
      "source": [
        "Ans:-\n",
        "**Classical (Frequentist) ANOVA**\n",
        "\n",
        "Uncertainty: Treated as long-run frequencies of repeated experiments.\n",
        "\n",
        "Parameter Estimation: Point estimates (e.g., means) with confidence intervals.\n",
        "\n",
        "Hypothesis Testing: Null hypothesis significance testing (NHST) with p-values. Rejects or fails to reject the null hypothesis based on a predetermined significance level.\n",
        "\n",
        "**Bayesian ANOVA**\n",
        "\n",
        "Uncertainty: Expressed as probability distributions for parameters.\n",
        "Parameter Estimation: Posterior distributions that incorporate prior beliefs and observed data.\n",
        "\n",
        "Hypothesis Testing: Model comparison using Bayes factors or posterior probabilities. Provides evidence for one model over another.\n",
        "\n",
        "**Key Differences**\n",
        "\n",
        "Treatment of Uncertainty: Frequentists view uncertainty as objective and based on repeated sampling, while Bayesians incorporate subjective prior beliefs.\n",
        "\n",
        "Parameter Estimation: Frequentists focus on point estimates, while Bayesians provide a range of plausible values with associated probabilities.\n",
        "\n",
        "Hypothesis Testing: Frequentists use NHST with p-values, while Bayesians compare models using Bayes factors or posterior probabilities."
      ],
      "metadata": {
        "id": "y1GW_MfTVFN1"
      }
    },
    {
      "cell_type": "code",
      "source": [],
      "metadata": {
        "id": "7SXtVLo0fgDp"
      },
      "execution_count": 2,
      "outputs": []
    },
    {
      "cell_type": "markdown",
      "source": [
        "8. Question: You have two sets of data representing the incomes of two different professions1\n",
        "V Profession A: [48, 52, 55, 60, 62'\n",
        "V Profession B: [45, 50, 55, 52, 47] Perform an F-test to determine if the variances of the two professions'\n",
        "incomes are equal. What are your conclusions based on the F-test?\n",
        "\n",
        "Task: Use Python to calculate the F-statistic and p-value for the given data.\n",
        "\n",
        "Objective: Gain experience in performing F-tests and interpreting the results in terms of variance comparison."
      ],
      "metadata": {
        "id": "CThIs0sQfhh5"
      }
    },
    {
      "cell_type": "code",
      "source": [
        "import scipy.stats as stats\n",
        "\n",
        "profession_a = [48, 52, 55, 60, 62]\n",
        "profession_b = [45, 50, 55, 52, 47]\n",
        "\n",
        "f_statistic, p_value = stats.f_oneway(profession_a, profession_b)\n",
        "\n",
        "print(\"F-statistic:\", f_statistic)\n",
        "print(\"p-value:\", p_value)\n",
        "\n",
        "alpha = 0.05\n",
        "\n",
        "if p_value < alpha:\n",
        "    print(\"Reject the null hypothesis. There is evidence that the variances of the two professions' incomes are significantly different.\")\n",
        "else:\n",
        "    print(\"Fail to reject the null hypothesis. There is no evidence that the variances of the two professions' incomes are significantly different.\")"
      ],
      "metadata": {
        "colab": {
          "base_uri": "https://localhost:8080/"
        },
        "id": "vCp0xTy0frQR",
        "outputId": "1771e550-833b-4fdc-c814-8a23ec5b3fd7"
      },
      "execution_count": 3,
      "outputs": [
        {
          "output_type": "stream",
          "name": "stdout",
          "text": [
            "F-statistic: 3.232989690721649\n",
            "p-value: 0.10987970118946545\n",
            "Fail to reject the null hypothesis. There is no evidence that the variances of the two professions' incomes are significantly different.\n"
          ]
        }
      ]
    },
    {
      "cell_type": "code",
      "source": [],
      "metadata": {
        "id": "vq2YNy9FfxH5"
      },
      "execution_count": 3,
      "outputs": []
    },
    {
      "cell_type": "markdown",
      "source": [
        "9. Question: Conduct a one-way ANOVA to test whether there are any statistically significant differences in\n",
        "average heights between three different regions with the following data1\n",
        "V Region A: [160, 162, 165, 158, 164'\n",
        "V Region B: [172, 175, 170, 168, 174'\n",
        "V Region C: [180, 182, 179, 185, 183'\n",
        "V Task: Write Python code to perform the one-way ANOVA and interpret the results\n",
        "V Objective: Learn how to perform one-way ANOVA using Python and interpret F-statistic and p-value."
      ],
      "metadata": {
        "id": "g6lacs4hfz1Y"
      }
    },
    {
      "cell_type": "code",
      "source": [
        "region_a = [160, 162, 165, 158, 164]\n",
        "region_b = [172, 175, 170, 168, 174]\n",
        "region_c = [180, 182, 179, 185, 183]\n",
        "\n",
        "f_statistic, p_value = stats.f_oneway(region_a, region_b, region_c)\n",
        "\n",
        "print(\"F-statistic:\", f_statistic)\n",
        "print(\"p-value:\", p_value)\n",
        "\n",
        "alpha = 0.05\n",
        "\n",
        "if p_value < alpha:\n",
        "    print(\"Reject the null hypothesis. There is evidence of statistically significant differences in average heights between the three regions.\")\n",
        "else:\n",
        "    print(\"Fail to reject the null hypothesis. There is no evidence of statistically significant differences in average heights between the three regions.\")"
      ],
      "metadata": {
        "colab": {
          "base_uri": "https://localhost:8080/"
        },
        "id": "9kRjWczVf2J4",
        "outputId": "cd7e0803-a37a-41e9-db44-cb6f23c1aa30"
      },
      "execution_count": 4,
      "outputs": [
        {
          "output_type": "stream",
          "name": "stdout",
          "text": [
            "F-statistic: 67.87330316742101\n",
            "p-value: 2.870664187937026e-07\n",
            "Reject the null hypothesis. There is evidence of statistically significant differences in average heights between the three regions.\n"
          ]
        }
      ]
    },
    {
      "cell_type": "code",
      "source": [],
      "metadata": {
        "id": "5hYHOaIxf_aI"
      },
      "execution_count": 4,
      "outputs": []
    }
  ]
}