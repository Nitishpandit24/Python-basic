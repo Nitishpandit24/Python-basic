{
  "nbformat": 4,
  "nbformat_minor": 0,
  "metadata": {
    "colab": {
      "provenance": []
    },
    "kernelspec": {
      "name": "python3",
      "display_name": "Python 3"
    },
    "language_info": {
      "name": "python"
    }
  },
  "cells": [
    {
      "cell_type": "markdown",
      "source": [
        "1. Write a Python function that takes a list of numbers as input and returns the sum of all even numbers in\n",
        "the list."
      ],
      "metadata": {
        "id": "oq8uX9LSzhT-"
      }
    },
    {
      "cell_type": "code",
      "execution_count": null,
      "metadata": {
        "colab": {
          "base_uri": "https://localhost:8080/"
        },
        "id": "0RGHXfCozZuk",
        "outputId": "d3a7f1b0-1e80-4c75-8ac4-d59d3230dd08"
      },
      "outputs": [
        {
          "output_type": "execute_result",
          "data": {
            "text/plain": [
              "20"
            ]
          },
          "metadata": {},
          "execution_count": 1
        }
      ],
      "source": [
        "trail_list1=[1,2,3,4,5,6,7,8]\n",
        "\n",
        "def sum_of_even(x):\n",
        "  sum=0\n",
        "  for i in x:\n",
        "    if i%2==0:\n",
        "      sum +=i\n",
        "  return sum\n",
        "\n",
        "sum_of_even(trail_list1)"
      ]
    },
    {
      "cell_type": "markdown",
      "source": [
        "2. Create a Python function that accepts a string and returns the reverse of that string."
      ],
      "metadata": {
        "id": "xcrtEZuI1gMT"
      }
    },
    {
      "cell_type": "code",
      "execution_count": null,
      "metadata": {
        "colab": {
          "base_uri": "https://localhost:8080/",
          "height": 36
        },
        "id": "WBlvK6CVD4DI",
        "outputId": "eb759800-0da4-4c76-c61b-d8ffd3eab582"
      },
      "outputs": [
        {
          "output_type": "execute_result",
          "data": {
            "text/plain": [
              "'tidnap ramuk hsitiN'"
            ],
            "application/vnd.google.colaboratory.intrinsic+json": {
              "type": "string"
            }
          },
          "metadata": {},
          "execution_count": 2
        }
      ],
      "source": [
        "def rev_string(a):\n",
        "  return a[::-1]\n",
        "\n",
        "name=\"Nitish kumar pandit\"\n",
        "rev_string(name)"
      ]
    },
    {
      "cell_type": "markdown",
      "source": [
        "3. Implement a Python function that takes a list of integers and returns a new list containing the squares of\n",
        "each number."
      ],
      "metadata": {
        "id": "wP1RjBHT1_li"
      }
    },
    {
      "cell_type": "code",
      "source": [
        "def new_output(a):\n",
        "  new=[]\n",
        "  for i in a:\n",
        "    new.append(i*2)\n",
        "  return new\n",
        "\n",
        "num=[1,2,3,4,5]\n",
        "newlist=new_output(num)\n",
        "print(num)\n",
        "print(newlist)"
      ],
      "metadata": {
        "colab": {
          "base_uri": "https://localhost:8080/"
        },
        "id": "Mkc_CAsP13k5",
        "outputId": "9d6cb410-5f50-479e-df44-64c54372bac2"
      },
      "execution_count": null,
      "outputs": [
        {
          "output_type": "stream",
          "name": "stdout",
          "text": [
            "[1, 2, 3, 4, 5]\n",
            "[2, 4, 6, 8, 10]\n"
          ]
        }
      ]
    },
    {
      "cell_type": "markdown",
      "source": [
        "4. Write a Python function that checks if a given number is prime or not from 1 to 200."
      ],
      "metadata": {
        "id": "A6YEV7YM2uUq"
      }
    },
    {
      "cell_type": "code",
      "source": [
        "def check(n):\n",
        "  prime=[]\n",
        "  for i in range(n+1):\n",
        "    count=0\n",
        "    for j in range(1,i+1):\n",
        "      if i%j==0:\n",
        "        count+=1\n",
        "    if count==2:\n",
        "      prime.append(i)\n",
        "  return prime\n",
        "\n",
        "print(check(200),end=' ')"
      ],
      "metadata": {
        "colab": {
          "base_uri": "https://localhost:8080/"
        },
        "id": "WTjG8RwUuX5j",
        "outputId": "7bf4ef0a-6f3d-416e-993b-3440f11d0373"
      },
      "execution_count": null,
      "outputs": [
        {
          "output_type": "stream",
          "name": "stdout",
          "text": [
            "[2, 3, 5, 7, 11, 13, 17, 19, 23, 29, 31, 37, 41, 43, 47, 53, 59, 61, 67, 71, 73, 79, 83, 89, 97, 101, 103, 107, 109, 113, 127, 131, 137, 139, 149, 151, 157, 163, 167, 173, 179, 181, 191, 193, 197, 199] "
          ]
        }
      ]
    },
    {
      "cell_type": "markdown",
      "source": [
        "5. Create an iterator class in Python that generates the Fibonacci sequence up to a specified number of\n",
        "terms."
      ],
      "metadata": {
        "id": "cAx-zURSLsO5"
      }
    },
    {
      "cell_type": "code",
      "source": [
        "def fibbo(n):\n",
        "  fibbo=[]\n",
        "  a=0\n",
        "  b=1\n",
        "  for i in range(n):\n",
        "    fibbo.append(a)\n",
        "    a,b=b,a+b\n",
        "  return fibbo\n",
        "\n",
        "fibbo(10)"
      ],
      "metadata": {
        "id": "AFeiydQTLXfu",
        "colab": {
          "base_uri": "https://localhost:8080/"
        },
        "outputId": "03d10133-fd59-4c0c-9b6f-18caf8e10d7e"
      },
      "execution_count": null,
      "outputs": [
        {
          "output_type": "execute_result",
          "data": {
            "text/plain": [
              "[0, 1, 1, 2, 3, 5, 8, 13, 21, 34]"
            ]
          },
          "metadata": {},
          "execution_count": 5
        }
      ]
    },
    {
      "cell_type": "markdown",
      "source": [
        "6. Write a generator function in Python that yields the powers of 2 up to a given exponent."
      ],
      "metadata": {
        "id": "lRh2UDO0fQLV"
      }
    },
    {
      "cell_type": "code",
      "source": [
        "def power(n):\n",
        "  for i in range(n):\n",
        "    yield i**2\n",
        "\n",
        "listv=iter(power(20))"
      ],
      "metadata": {
        "id": "C3cWq0QZdIem"
      },
      "execution_count": null,
      "outputs": []
    },
    {
      "cell_type": "code",
      "source": [
        "next(listv)"
      ],
      "metadata": {
        "id": "D28E7_6OgENY",
        "colab": {
          "base_uri": "https://localhost:8080/"
        },
        "outputId": "ac45d427-e0e3-4a77-a6c5-4580b4d6366e"
      },
      "execution_count": null,
      "outputs": [
        {
          "output_type": "execute_result",
          "data": {
            "text/plain": [
              "0"
            ]
          },
          "metadata": {},
          "execution_count": 7
        }
      ]
    },
    {
      "cell_type": "markdown",
      "source": [
        "7. Implement a generator function that reads a file line by line and yields each line as a string."
      ],
      "metadata": {
        "id": "Z2Av_pOl2TWC"
      }
    },
    {
      "cell_type": "code",
      "source": [
        "def read_file(file_path):\n",
        "    try:\n",
        "        with open(file_path, 'r') as file:\n",
        "            for line in file:\n",
        "                yield line.strip()\n",
        "    except FileNotFoundError:\n",
        "        print(f\"File '{file_path}' not found.\")\n",
        "\n"
      ],
      "metadata": {
        "id": "9AmUhftB2W3f"
      },
      "execution_count": null,
      "outputs": []
    },
    {
      "cell_type": "markdown",
      "source": [
        "8. Use a lambda function in Python to sort a list of tuples based on the second element of each tuple."
      ],
      "metadata": {
        "id": "FjNVSJtx66z-"
      }
    },
    {
      "cell_type": "code",
      "source": [
        "tuples=[(1,2),(2,8),(3,1)]\n",
        "sorted_list=sorted(tuples,key= lambda x: x[1])\n",
        "sorted_list"
      ],
      "metadata": {
        "colab": {
          "base_uri": "https://localhost:8080/"
        },
        "id": "OZC8NXMV5R5O",
        "outputId": "fc73b4b5-505c-4dba-8121-485cb085363b"
      },
      "execution_count": null,
      "outputs": [
        {
          "output_type": "execute_result",
          "data": {
            "text/plain": [
              "[(3, 1), (1, 2), (2, 8)]"
            ]
          },
          "metadata": {},
          "execution_count": 9
        }
      ]
    },
    {
      "cell_type": "markdown",
      "source": [
        "9. Write a Python program that uses `map()` to convert a list of temperatures from Celsius to Fahrenheit."
      ],
      "metadata": {
        "id": "Zxocnx9C9LSh"
      }
    },
    {
      "cell_type": "code",
      "source": [
        "temp=[27.42,65,28,42.14]\n",
        "def conv(a):\n",
        "    return a*(9/5)+32\n",
        "\n",
        "fah=map(conv,temp)\n",
        "print(list(fah))"
      ],
      "metadata": {
        "colab": {
          "base_uri": "https://localhost:8080/"
        },
        "id": "guNMOzLE882s",
        "outputId": "3255e944-27d5-4cf2-abca-3d0cc650de35"
      },
      "execution_count": null,
      "outputs": [
        {
          "output_type": "stream",
          "name": "stdout",
          "text": [
            "[81.356, 149.0, 82.4, 107.852]\n"
          ]
        }
      ]
    },
    {
      "cell_type": "markdown",
      "source": [
        "10. Create a Python program that uses `filter()` to remove all the vowels from a given string."
      ],
      "metadata": {
        "id": "KwIV9tffN2rB"
      }
    },
    {
      "cell_type": "code",
      "source": [
        "sentence='This is a demo statement'\n",
        "\n",
        "print(list(filter(lambda x: x not in 'aeiouAEIOU',sentence)),end='')"
      ],
      "metadata": {
        "colab": {
          "base_uri": "https://localhost:8080/"
        },
        "id": "EJi_4ilOFEYj",
        "outputId": "ced65cb5-17e0-4b87-e4f7-d42c5e3f4c76"
      },
      "execution_count": null,
      "outputs": [
        {
          "output_type": "stream",
          "name": "stdout",
          "text": [
            "['T', 'h', 's', ' ', 's', ' ', ' ', 'd', 'm', ' ', 's', 't', 't', 'm', 'n', 't']"
          ]
        }
      ]
    },
    {
      "cell_type": "markdown",
      "source": [
        "11) Imagine an accounting routine used in a book shop. It works on a list with sublists, which look like this:\n",
        "\n",
        "Write a Python program, which returns a list with 2-tuples. Each tuple consists of the order number and the\n",
        "product of the price per item and the quantity. The product should be increased by 10,- € if the value of the\n",
        "order is smaller than 100,00 €.\n",
        "\n",
        "Write a Python program using lambda and map."
      ],
      "metadata": {
        "id": "EdPZrci5SdPo"
      }
    },
    {
      "cell_type": "code",
      "source": [
        "# Given list\n",
        "demo_list=[['Order number','Book Title and Author','Quantity','Price per Iteam'],[34587,98762,77226,88112],['Learning python,mark lutz','Programming Python,mark lutz',\n",
        "            'Head first Python,Paul Berry','Einführung in Python3, Bernd Klein'],[4,5,3,3],[40.95,56.80,32.95,24.99]]\n",
        "demo_list"
      ],
      "metadata": {
        "id": "tJwoa79HRaW1",
        "colab": {
          "base_uri": "https://localhost:8080/"
        },
        "outputId": "5d84716c-df56-4792-8d3c-a9ff24c3ab29"
      },
      "execution_count": 2,
      "outputs": [
        {
          "output_type": "execute_result",
          "data": {
            "text/plain": [
              "[['Order number', 'Book Title and Author', 'Quantity', 'Price per Iteam'],\n",
              " [34587, 98762, 77226, 88112],\n",
              " ['Learning python,mark lutz',\n",
              "  'Programming Python,mark lutz',\n",
              "  'Head first Python,Paul Berry',\n",
              "  'Einführung in Python3, Bernd Klein'],\n",
              " [4, 5, 3, 3],\n",
              " [40.95, 56.8, 32.95, 24.99]]"
            ]
          },
          "metadata": {},
          "execution_count": 2
        }
      ]
    },
    {
      "cell_type": "code",
      "source": [
        "order_list = list(zip(demo_list[1],demo_list[2],demo_list[3],demo_list[4]))\n",
        "calculate_total = lambda order: (order[0], order[3] * order[2] + 10 if order[3] * order[2] < 100 else order[3] * order[2])\n",
        "total_list = list(map(calculate_total, order_list))\n",
        "print(total_list)\n"
      ],
      "metadata": {
        "colab": {
          "base_uri": "https://localhost:8080/"
        },
        "id": "vDV5UoWw0QND",
        "outputId": "b307228d-ee70-4b0d-83b3-0ca73368c881"
      },
      "execution_count": 8,
      "outputs": [
        {
          "output_type": "stream",
          "name": "stdout",
          "text": [
            "[(34587, 163.8), (98762, 284.0), (77226, 108.85000000000001), (88112, 84.97)]\n"
          ]
        }
      ]
    },
    {
      "cell_type": "code",
      "source": [],
      "metadata": {
        "id": "wREwrE0H0tAV"
      },
      "execution_count": null,
      "outputs": []
    }
  ]
}