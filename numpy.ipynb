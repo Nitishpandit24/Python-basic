{
  "nbformat": 4,
  "nbformat_minor": 0,
  "metadata": {
    "colab": {
      "provenance": []
    },
    "kernelspec": {
      "name": "python3",
      "display_name": "Python 3"
    },
    "language_info": {
      "name": "python"
    }
  },
  "cells": [
    {
      "cell_type": "code",
      "execution_count": 1,
      "metadata": {
        "id": "nAUfe9Zhbulr"
      },
      "outputs": [],
      "source": [
        "import numpy as np"
      ]
    },
    {
      "cell_type": "markdown",
      "source": [
        "1. Create a 3x3 NumPy array with random integers between 1 and 100. Then, interchange its rows and columns."
      ],
      "metadata": {
        "id": "niC2NRHKX6jl"
      }
    },
    {
      "cell_type": "code",
      "source": [
        "arr1=np.random.randint(1,100,(3,3))"
      ],
      "metadata": {
        "id": "aT0ABCr_X_4n"
      },
      "execution_count": 2,
      "outputs": []
    },
    {
      "cell_type": "code",
      "source": [
        "arr1"
      ],
      "metadata": {
        "colab": {
          "base_uri": "https://localhost:8080/"
        },
        "id": "MYCvtC9gYIKQ",
        "outputId": "b946c62c-f6c1-4a9c-93cb-f8940ecb8930"
      },
      "execution_count": 3,
      "outputs": [
        {
          "output_type": "execute_result",
          "data": {
            "text/plain": [
              "array([[68, 73, 18],\n",
              "       [42, 17, 95],\n",
              "       [15, 96, 78]])"
            ]
          },
          "metadata": {},
          "execution_count": 3
        }
      ]
    },
    {
      "cell_type": "code",
      "source": [
        "arr1.T"
      ],
      "metadata": {
        "colab": {
          "base_uri": "https://localhost:8080/"
        },
        "id": "Oo5rYCPSYPDQ",
        "outputId": "ef3c2f52-5f33-4d7e-d116-d1e24fa4f80e"
      },
      "execution_count": 4,
      "outputs": [
        {
          "output_type": "execute_result",
          "data": {
            "text/plain": [
              "array([[68, 42, 15],\n",
              "       [73, 17, 96],\n",
              "       [18, 95, 78]])"
            ]
          },
          "metadata": {},
          "execution_count": 4
        }
      ]
    },
    {
      "cell_type": "markdown",
      "source": [
        "2. Generate a 1D NumPy array with 10 elements. Reshape it into a 2x5 array, then into a 5x2 array."
      ],
      "metadata": {
        "id": "89rZ7xY-YWK9"
      }
    },
    {
      "cell_type": "code",
      "source": [
        "arr2=np.arange(10)"
      ],
      "metadata": {
        "id": "R_rxWVEsYQ7A"
      },
      "execution_count": 5,
      "outputs": []
    },
    {
      "cell_type": "code",
      "source": [
        "arr2"
      ],
      "metadata": {
        "colab": {
          "base_uri": "https://localhost:8080/"
        },
        "id": "MGqq9UfbYZSC",
        "outputId": "2fc922ba-48af-4ec4-ba8a-80b9ef0e8ef3"
      },
      "execution_count": 6,
      "outputs": [
        {
          "output_type": "execute_result",
          "data": {
            "text/plain": [
              "array([0, 1, 2, 3, 4, 5, 6, 7, 8, 9])"
            ]
          },
          "metadata": {},
          "execution_count": 6
        }
      ]
    },
    {
      "cell_type": "code",
      "source": [
        "arr2.reshape(2,5)"
      ],
      "metadata": {
        "colab": {
          "base_uri": "https://localhost:8080/"
        },
        "id": "1TORx0SpZYHZ",
        "outputId": "5b03dfac-1633-46ac-fd0b-c486f9c098b6"
      },
      "execution_count": 7,
      "outputs": [
        {
          "output_type": "execute_result",
          "data": {
            "text/plain": [
              "array([[0, 1, 2, 3, 4],\n",
              "       [5, 6, 7, 8, 9]])"
            ]
          },
          "metadata": {},
          "execution_count": 7
        }
      ]
    },
    {
      "cell_type": "code",
      "source": [
        "arr2.reshape(5,2)"
      ],
      "metadata": {
        "colab": {
          "base_uri": "https://localhost:8080/"
        },
        "id": "wNWzitdpdhKB",
        "outputId": "e32c2f8e-6813-450b-f8ab-393217fa0a62"
      },
      "execution_count": 8,
      "outputs": [
        {
          "output_type": "execute_result",
          "data": {
            "text/plain": [
              "array([[0, 1],\n",
              "       [2, 3],\n",
              "       [4, 5],\n",
              "       [6, 7],\n",
              "       [8, 9]])"
            ]
          },
          "metadata": {},
          "execution_count": 8
        }
      ]
    },
    {
      "cell_type": "markdown",
      "source": [
        "3. Create a 4x4 NumPy array with random float values. Add a border of zeros around it, resulting in a 6x6 array."
      ],
      "metadata": {
        "id": "iD8IwdD7foDH"
      }
    },
    {
      "cell_type": "code",
      "source": [
        "arr3=np.random.rand(4,4)"
      ],
      "metadata": {
        "id": "eym0biAmeZ_C"
      },
      "execution_count": 9,
      "outputs": []
    },
    {
      "cell_type": "code",
      "source": [
        "arr3"
      ],
      "metadata": {
        "colab": {
          "base_uri": "https://localhost:8080/"
        },
        "id": "t3a-kmnAfybq",
        "outputId": "375f5cd0-7657-4316-d329-64f979ee97a7"
      },
      "execution_count": 10,
      "outputs": [
        {
          "output_type": "execute_result",
          "data": {
            "text/plain": [
              "array([[0.20789088, 0.94236879, 0.33418499, 0.74804345],\n",
              "       [0.37646358, 0.20348244, 0.892173  , 0.65450792],\n",
              "       [0.0870831 , 0.39025593, 0.94906547, 0.32327938],\n",
              "       [0.51138725, 0.17792632, 0.26980238, 0.01734754]])"
            ]
          },
          "metadata": {},
          "execution_count": 10
        }
      ]
    },
    {
      "cell_type": "code",
      "source": [
        "arr4=np.zeros((6,6))"
      ],
      "metadata": {
        "id": "ivu7ZqN-QHyn"
      },
      "execution_count": 11,
      "outputs": []
    },
    {
      "cell_type": "code",
      "source": [
        "arr4"
      ],
      "metadata": {
        "colab": {
          "base_uri": "https://localhost:8080/"
        },
        "id": "iCpsFGNgQPcG",
        "outputId": "f0f04099-1862-4cf3-810f-c45c73c9b7da"
      },
      "execution_count": 12,
      "outputs": [
        {
          "output_type": "execute_result",
          "data": {
            "text/plain": [
              "array([[0., 0., 0., 0., 0., 0.],\n",
              "       [0., 0., 0., 0., 0., 0.],\n",
              "       [0., 0., 0., 0., 0., 0.],\n",
              "       [0., 0., 0., 0., 0., 0.],\n",
              "       [0., 0., 0., 0., 0., 0.],\n",
              "       [0., 0., 0., 0., 0., 0.]])"
            ]
          },
          "metadata": {},
          "execution_count": 12
        }
      ]
    },
    {
      "cell_type": "code",
      "source": [
        "arr4[1:5, 1:5] = arr3"
      ],
      "metadata": {
        "id": "AHsmk9W3hmhV"
      },
      "execution_count": 13,
      "outputs": []
    },
    {
      "cell_type": "code",
      "source": [
        "arr4"
      ],
      "metadata": {
        "colab": {
          "base_uri": "https://localhost:8080/"
        },
        "id": "HDyFLPzZQWES",
        "outputId": "6584cc04-fc74-4bc2-a6a9-606c39fbbd8e"
      },
      "execution_count": 14,
      "outputs": [
        {
          "output_type": "execute_result",
          "data": {
            "text/plain": [
              "array([[0.        , 0.        , 0.        , 0.        , 0.        ,\n",
              "        0.        ],\n",
              "       [0.        , 0.20789088, 0.94236879, 0.33418499, 0.74804345,\n",
              "        0.        ],\n",
              "       [0.        , 0.37646358, 0.20348244, 0.892173  , 0.65450792,\n",
              "        0.        ],\n",
              "       [0.        , 0.0870831 , 0.39025593, 0.94906547, 0.32327938,\n",
              "        0.        ],\n",
              "       [0.        , 0.51138725, 0.17792632, 0.26980238, 0.01734754,\n",
              "        0.        ],\n",
              "       [0.        , 0.        , 0.        , 0.        , 0.        ,\n",
              "        0.        ]])"
            ]
          },
          "metadata": {},
          "execution_count": 14
        }
      ]
    },
    {
      "cell_type": "markdown",
      "source": [
        "4. Using NumPy, create an array of integers from 10 to 60 with a step of 5."
      ],
      "metadata": {
        "id": "YWihAFL6Q1B8"
      }
    },
    {
      "cell_type": "code",
      "source": [
        "arr_int=np.arange(10,61,5)"
      ],
      "metadata": {
        "id": "UGAtVj5IQXfa"
      },
      "execution_count": 15,
      "outputs": []
    },
    {
      "cell_type": "code",
      "source": [
        "arr_int"
      ],
      "metadata": {
        "colab": {
          "base_uri": "https://localhost:8080/"
        },
        "id": "_Ij7bqSJkAmX",
        "outputId": "1f1f1e68-bf9a-4bc7-b4f2-9003b6e4d566"
      },
      "execution_count": 16,
      "outputs": [
        {
          "output_type": "execute_result",
          "data": {
            "text/plain": [
              "array([10, 15, 20, 25, 30, 35, 40, 45, 50, 55, 60])"
            ]
          },
          "metadata": {},
          "execution_count": 16
        }
      ]
    },
    {
      "cell_type": "markdown",
      "source": [
        "5. Create a NumPy array of strings ['python', 'numpy', 'pandas']. Apply different case transformations\n",
        "(uppercase, lowercase, title case, etc.) to each element."
      ],
      "metadata": {
        "id": "5UNH3vJ0kFqg"
      }
    },
    {
      "cell_type": "code",
      "source": [
        "l=['python', 'numpy', 'pandas']"
      ],
      "metadata": {
        "id": "92xa6D4lkDAV"
      },
      "execution_count": 17,
      "outputs": []
    },
    {
      "cell_type": "code",
      "source": [
        "arr_str=np.array(l)"
      ],
      "metadata": {
        "id": "FCaFs_clkQiG"
      },
      "execution_count": 18,
      "outputs": []
    },
    {
      "cell_type": "code",
      "source": [
        "arr_str"
      ],
      "metadata": {
        "colab": {
          "base_uri": "https://localhost:8080/"
        },
        "id": "AcVh3ktFkWXd",
        "outputId": "37e9c5ec-3113-468b-cf98-696427d5c76b"
      },
      "execution_count": 20,
      "outputs": [
        {
          "output_type": "execute_result",
          "data": {
            "text/plain": [
              "array(['python', 'numpy', 'pandas'], dtype='<U6')"
            ]
          },
          "metadata": {},
          "execution_count": 20
        }
      ]
    },
    {
      "cell_type": "code",
      "source": [
        "np.char.upper(arr_str)"
      ],
      "metadata": {
        "colab": {
          "base_uri": "https://localhost:8080/"
        },
        "id": "EcFNRf1XkXUm",
        "outputId": "6f4f334c-18cc-4694-c004-d51b22d1b714"
      },
      "execution_count": 22,
      "outputs": [
        {
          "output_type": "execute_result",
          "data": {
            "text/plain": [
              "array(['PYTHON', 'NUMPY', 'PANDAS'], dtype='<U6')"
            ]
          },
          "metadata": {},
          "execution_count": 22
        }
      ]
    },
    {
      "cell_type": "code",
      "source": [
        "np.char.lower(arr_str)"
      ],
      "metadata": {
        "colab": {
          "base_uri": "https://localhost:8080/"
        },
        "id": "q4rp5VAIklvG",
        "outputId": "84d6c4c9-df91-41ea-9c45-2e5546565204"
      },
      "execution_count": 23,
      "outputs": [
        {
          "output_type": "execute_result",
          "data": {
            "text/plain": [
              "array(['python', 'numpy', 'pandas'], dtype='<U6')"
            ]
          },
          "metadata": {},
          "execution_count": 23
        }
      ]
    },
    {
      "cell_type": "code",
      "source": [
        "np.char.capitalize(arr_str)"
      ],
      "metadata": {
        "colab": {
          "base_uri": "https://localhost:8080/"
        },
        "id": "YN1mSHgJlDNG",
        "outputId": "eec7e331-c570-4877-c992-5c4fd475c277"
      },
      "execution_count": 24,
      "outputs": [
        {
          "output_type": "execute_result",
          "data": {
            "text/plain": [
              "array(['Python', 'Numpy', 'Pandas'], dtype='<U6')"
            ]
          },
          "metadata": {},
          "execution_count": 24
        }
      ]
    },
    {
      "cell_type": "code",
      "source": [
        "np.char.swapcase(arr_str)"
      ],
      "metadata": {
        "colab": {
          "base_uri": "https://localhost:8080/"
        },
        "id": "qdg54Yc8lGUf",
        "outputId": "b161fe42-677b-44d7-a95b-7e24ed04890c"
      },
      "execution_count": 25,
      "outputs": [
        {
          "output_type": "execute_result",
          "data": {
            "text/plain": [
              "array(['PYTHON', 'NUMPY', 'PANDAS'], dtype='<U6')"
            ]
          },
          "metadata": {},
          "execution_count": 25
        }
      ]
    },
    {
      "cell_type": "markdown",
      "source": [
        "6. Generate a NumPy array of words. Insert a space between each character of every word in the array."
      ],
      "metadata": {
        "id": "k2dyn9umlXgy"
      }
    },
    {
      "cell_type": "code",
      "source": [
        "arr_word=np.array(['python', 'numpy', 'pandas'])"
      ],
      "metadata": {
        "id": "yn-HobWZlUwn"
      },
      "execution_count": 26,
      "outputs": []
    },
    {
      "cell_type": "code",
      "source": [
        "arr_word_space=[' '.join(word) for word in arr_word]"
      ],
      "metadata": {
        "id": "U-_oC2QslhRm"
      },
      "execution_count": 27,
      "outputs": []
    },
    {
      "cell_type": "code",
      "source": [
        "arr_word=np.array(arr_word_space)"
      ],
      "metadata": {
        "id": "5uBtESueoY6n"
      },
      "execution_count": 28,
      "outputs": []
    },
    {
      "cell_type": "code",
      "source": [
        "arr_word"
      ],
      "metadata": {
        "colab": {
          "base_uri": "https://localhost:8080/"
        },
        "id": "pQCgs0wQocr_",
        "outputId": "1fad46af-b343-42ca-8b00-131a1a653d44"
      },
      "execution_count": 29,
      "outputs": [
        {
          "output_type": "execute_result",
          "data": {
            "text/plain": [
              "array(['p y t h o n', 'n u m p y', 'p a n d a s'], dtype='<U11')"
            ]
          },
          "metadata": {},
          "execution_count": 29
        }
      ]
    },
    {
      "cell_type": "markdown",
      "source": [
        "7. Create two 2D NumPy arrays and perform element-wise addition, subtraction, multiplication, and division."
      ],
      "metadata": {
        "id": "bGY-rVbMof-S"
      }
    },
    {
      "cell_type": "code",
      "source": [
        "arr1=np.random.randint(1,10,(3,3))\n",
        "arr2=np.random.randint(1,10,(3,3))"
      ],
      "metadata": {
        "id": "5qiiootfoeUv"
      },
      "execution_count": 31,
      "outputs": []
    },
    {
      "cell_type": "code",
      "source": [
        "arr1"
      ],
      "metadata": {
        "colab": {
          "base_uri": "https://localhost:8080/"
        },
        "id": "Zf9minz9oxi4",
        "outputId": "feee30a7-d40b-4304-f1e9-5ca2e03aae07"
      },
      "execution_count": 33,
      "outputs": [
        {
          "output_type": "execute_result",
          "data": {
            "text/plain": [
              "array([[9, 9, 7],\n",
              "       [3, 8, 8],\n",
              "       [3, 7, 2]])"
            ]
          },
          "metadata": {},
          "execution_count": 33
        }
      ]
    },
    {
      "cell_type": "code",
      "source": [
        "arr2"
      ],
      "metadata": {
        "colab": {
          "base_uri": "https://localhost:8080/"
        },
        "id": "RBOhDj8oo4HQ",
        "outputId": "a85a08ed-bdef-480e-94d4-6f49f6d713d3"
      },
      "execution_count": 34,
      "outputs": [
        {
          "output_type": "execute_result",
          "data": {
            "text/plain": [
              "array([[4, 3, 7],\n",
              "       [1, 2, 3],\n",
              "       [4, 8, 1]])"
            ]
          },
          "metadata": {},
          "execution_count": 34
        }
      ]
    },
    {
      "cell_type": "code",
      "source": [
        "arr1+arr2"
      ],
      "metadata": {
        "colab": {
          "base_uri": "https://localhost:8080/"
        },
        "id": "vEAuv6QHo7sP",
        "outputId": "fb5c05fe-2770-45c5-cbc7-3d077f0f16b3"
      },
      "execution_count": 35,
      "outputs": [
        {
          "output_type": "execute_result",
          "data": {
            "text/plain": [
              "array([[13, 12, 14],\n",
              "       [ 4, 10, 11],\n",
              "       [ 7, 15,  3]])"
            ]
          },
          "metadata": {},
          "execution_count": 35
        }
      ]
    },
    {
      "cell_type": "code",
      "source": [
        "arr1-arr2"
      ],
      "metadata": {
        "colab": {
          "base_uri": "https://localhost:8080/"
        },
        "id": "2dyXn4FnrfrQ",
        "outputId": "12a95e64-1f8b-439e-f214-14f746e0d0ed"
      },
      "execution_count": 36,
      "outputs": [
        {
          "output_type": "execute_result",
          "data": {
            "text/plain": [
              "array([[ 5,  6,  0],\n",
              "       [ 2,  6,  5],\n",
              "       [-1, -1,  1]])"
            ]
          },
          "metadata": {},
          "execution_count": 36
        }
      ]
    },
    {
      "cell_type": "code",
      "source": [
        "arr1*arr2"
      ],
      "metadata": {
        "colab": {
          "base_uri": "https://localhost:8080/"
        },
        "id": "CYC6fvwyrhXB",
        "outputId": "bdf288b3-84f5-44fc-ff9e-8121e6a924f3"
      },
      "execution_count": 37,
      "outputs": [
        {
          "output_type": "execute_result",
          "data": {
            "text/plain": [
              "array([[36, 27, 49],\n",
              "       [ 3, 16, 24],\n",
              "       [12, 56,  2]])"
            ]
          },
          "metadata": {},
          "execution_count": 37
        }
      ]
    },
    {
      "cell_type": "code",
      "source": [
        "arr1/arr2"
      ],
      "metadata": {
        "colab": {
          "base_uri": "https://localhost:8080/"
        },
        "id": "azSIoS4srkaY",
        "outputId": "9d3c5c20-78ae-4e8f-d91f-4a51974bd795"
      },
      "execution_count": 39,
      "outputs": [
        {
          "output_type": "execute_result",
          "data": {
            "text/plain": [
              "array([[2.25      , 3.        , 1.        ],\n",
              "       [3.        , 4.        , 2.66666667],\n",
              "       [0.75      , 0.875     , 2.        ]])"
            ]
          },
          "metadata": {},
          "execution_count": 39
        }
      ]
    },
    {
      "cell_type": "markdown",
      "source": [
        "8. Use NumPy to create a 5x5 identity matrix, then extract its diagonal elements."
      ],
      "metadata": {
        "id": "FLzOk_d5rol0"
      }
    },
    {
      "cell_type": "code",
      "source": [
        "iden_mat=np.eye(5)"
      ],
      "metadata": {
        "id": "4laRNnnerl0w"
      },
      "execution_count": 40,
      "outputs": []
    },
    {
      "cell_type": "code",
      "source": [
        "iden_mat"
      ],
      "metadata": {
        "colab": {
          "base_uri": "https://localhost:8080/"
        },
        "id": "jJu2ojFjy6NT",
        "outputId": "1a634e46-8b4b-4012-fb83-c3662e6a6fa9"
      },
      "execution_count": 41,
      "outputs": [
        {
          "output_type": "execute_result",
          "data": {
            "text/plain": [
              "array([[1., 0., 0., 0., 0.],\n",
              "       [0., 1., 0., 0., 0.],\n",
              "       [0., 0., 1., 0., 0.],\n",
              "       [0., 0., 0., 1., 0.],\n",
              "       [0., 0., 0., 0., 1.]])"
            ]
          },
          "metadata": {},
          "execution_count": 41
        }
      ]
    },
    {
      "cell_type": "code",
      "source": [
        "dio_ele=np.diag(iden_mat)"
      ],
      "metadata": {
        "id": "0k4ETCx5y8Oa"
      },
      "execution_count": 42,
      "outputs": []
    },
    {
      "cell_type": "code",
      "source": [
        "dio_ele"
      ],
      "metadata": {
        "colab": {
          "base_uri": "https://localhost:8080/"
        },
        "id": "ZiVSnIiky_5L",
        "outputId": "700881b8-d71d-47f4-cdff-2d24cc05ebe0"
      },
      "execution_count": 43,
      "outputs": [
        {
          "output_type": "execute_result",
          "data": {
            "text/plain": [
              "array([1., 1., 1., 1., 1.])"
            ]
          },
          "metadata": {},
          "execution_count": 43
        }
      ]
    },
    {
      "cell_type": "markdown",
      "source": [
        "9. Generate a NumPy array of 100 random integers between 0 and 1000. Find and display all prime numbers in\n",
        "this array"
      ],
      "metadata": {
        "id": "6oZKg9ZszDW-"
      }
    },
    {
      "cell_type": "code",
      "source": [
        "random_array = np.random.randint(0, 1001, 100)\n",
        "\n",
        "print(\"Random Array:\")\n",
        "print(random_array)\n",
        "\n",
        "def is_prime(n):\n",
        "    if n <= 1:\n",
        "        return False\n",
        "    if n == 2:\n",
        "        return True\n",
        "    if n % 2 == 0:\n",
        "        return False\n",
        "    max_divisor = int(n**0.5) + 1\n",
        "    for d in range(3, max_divisor, 2):\n",
        "        if n % d == 0:\n",
        "            return False\n",
        "    return True\n",
        "\n",
        "\n",
        "prime_numbers = [num for num in random_array if is_prime(num)]\n",
        "\n",
        "print(\"\\nPrime Numbers in the Array:\")\n",
        "print(prime_numbers)"
      ],
      "metadata": {
        "colab": {
          "base_uri": "https://localhost:8080/"
        },
        "id": "zgaFT0GwzBt6",
        "outputId": "b0ff0ab5-bb07-458f-a0e6-437a5edb0ec0"
      },
      "execution_count": 44,
      "outputs": [
        {
          "output_type": "stream",
          "name": "stdout",
          "text": [
            "Random Array:\n",
            "[586 616 490 709 510 719  14 161 795   1 560 388  76 449 198 925 205 236\n",
            " 305 130 367 135 100 704 953 126 406 719 851 919 326 930 456 610 553 314\n",
            " 800 551 227 406 357  93 588 251 579 761 610  64 699 439 789 250 500 299\n",
            " 446 518 852 413 347 497 241 449 567 468 686 245   9 741 511  58 241 605\n",
            "  27 146 257 955 368 276 118  47 960  91 303 931 689 629 673 578 128  81\n",
            " 844 245 974  70 523 131 911 735 485 910]\n",
            "\n",
            "Prime Numbers in the Array:\n",
            "[709, 719, 449, 367, 953, 719, 919, 227, 251, 761, 439, 347, 241, 449, 241, 257, 47, 673, 523, 131, 911]\n"
          ]
        }
      ]
    },
    {
      "cell_type": "markdown",
      "source": [
        "10. Create a NumPy array representing daily temperatures for a month. Calculate and display the weekly\n",
        "averages."
      ],
      "metadata": {
        "id": "GP_UG8cJ5MUP"
      }
    },
    {
      "cell_type": "code",
      "source": [
        "daily_temperatures = np.array([30, 32, 31, 29, 28, 27, 26, 30, 31, 32, 33, 34, 35, 36, 37, 38, 39, 40, 41, 42, 43, 44, 45, 46, 47, 48, 49, 50, 51, 52])\n",
        "\n",
        "weekly_averages = [np.mean(daily_temperatures[i:i+7]) for i in range(0, len(daily_temperatures), 7)]\n",
        "\n",
        "for week, avg in enumerate(weekly_averages, start=1):\n",
        "    print(f\"Week {week} average temperature: {avg:.2f}°C\")\n"
      ],
      "metadata": {
        "id": "P4IkHmFY61J6",
        "outputId": "83f8ed3e-bb01-4854-bdb8-2a2169c7dae4",
        "colab": {
          "base_uri": "https://localhost:8080/"
        }
      },
      "execution_count": 45,
      "outputs": [
        {
          "output_type": "stream",
          "name": "stdout",
          "text": [
            "Week 1 average temperature: 29.00°C\n",
            "Week 2 average temperature: 33.00°C\n",
            "Week 3 average temperature: 40.00°C\n",
            "Week 4 average temperature: 47.00°C\n",
            "Week 5 average temperature: 51.50°C\n"
          ]
        }
      ]
    },
    {
      "cell_type": "code",
      "source": [],
      "metadata": {
        "id": "crOtGM-167y-"
      },
      "execution_count": null,
      "outputs": []
    }
  ]
}