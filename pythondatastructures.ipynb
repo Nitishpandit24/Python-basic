{
  "nbformat": 4,
  "nbformat_minor": 0,
  "metadata": {
    "colab": {
      "provenance": []
    },
    "kernelspec": {
      "name": "python3",
      "display_name": "Python 3"
    },
    "language_info": {
      "name": "python"
    }
  },
  "cells": [
    {
      "cell_type": "markdown",
      "source": [
        "Q1. Discuss string slicing and provide example.\n",
        "\n",
        "Ans:- String slicing allows us to extract a sub-string from a given string by stating the start and end indices.\n",
        "\n"
      ],
      "metadata": {
        "id": "FJ_WAyFkEPSV"
      }
    },
    {
      "cell_type": "code",
      "source": [
        "name='Nitish kumar pandit'\n",
        "name"
      ],
      "metadata": {
        "colab": {
          "base_uri": "https://localhost:8080/",
          "height": 36
        },
        "id": "Ga5gGo6REVUl",
        "outputId": "fd39622f-ce91-40c1-a1a5-88c42afa36fb"
      },
      "execution_count": 3,
      "outputs": [
        {
          "output_type": "execute_result",
          "data": {
            "text/plain": [
              "'Nitish kumar pandit'"
            ],
            "application/vnd.google.colaboratory.intrinsic+json": {
              "type": "string"
            }
          },
          "metadata": {},
          "execution_count": 3
        }
      ]
    },
    {
      "cell_type": "code",
      "source": [
        "#slicing string upto the letter i need\n",
        "name1=name[0:6]\n",
        "name1"
      ],
      "metadata": {
        "colab": {
          "base_uri": "https://localhost:8080/",
          "height": 36
        },
        "id": "uaACdsiQEY6t",
        "outputId": "3b5e2226-c2cc-4049-e376-ed3bc2187ff4"
      },
      "execution_count": 12,
      "outputs": [
        {
          "output_type": "execute_result",
          "data": {
            "text/plain": [
              "'Nitish'"
            ],
            "application/vnd.google.colaboratory.intrinsic+json": {
              "type": "string"
            }
          },
          "metadata": {},
          "execution_count": 12
        }
      ]
    },
    {
      "cell_type": "code",
      "source": [
        "#slicing string while skipping 1 letter\n",
        "name2=name[0:6:2]\n",
        "name2"
      ],
      "metadata": {
        "colab": {
          "base_uri": "https://localhost:8080/",
          "height": 36
        },
        "id": "STg9JeQRF8Yo",
        "outputId": "df2ac418-75df-44c6-f366-76aefee690e9"
      },
      "execution_count": 14,
      "outputs": [
        {
          "output_type": "execute_result",
          "data": {
            "text/plain": [
              "'Nts'"
            ],
            "application/vnd.google.colaboratory.intrinsic+json": {
              "type": "string"
            }
          },
          "metadata": {},
          "execution_count": 14
        }
      ]
    },
    {
      "cell_type": "markdown",
      "source": [
        "Q2. Explain the key features of list in python.\n",
        "\n",
        "Ans:-  The key features of lists are:\n",
        "\n",
        "1. Lists can be modified after creation. You can add, remove, or change elements.\n",
        "Ordered: List elements maintain their order, allowing you to access them by index.\n",
        "2. Lists can hold objects of different types (e.g., integers, strings, or custom objects).\n",
        "3. Lists can grow or shrink dynamically.\n",
        "4. Can iterate over list elements using a for loop.\n",
        "5. Lists allow mixing different types of elements within the same list."
      ],
      "metadata": {
        "id": "u0eOpMqAQEnS"
      }
    },
    {
      "cell_type": "markdown",
      "source": [
        "Q3. Decribe how to access,modify and delete element in a list with example."
      ],
      "metadata": {
        "id": "2XqOGiBxSRnh"
      }
    },
    {
      "cell_type": "code",
      "source": [
        "#Accessing elements of alist\n",
        "\n",
        "list1=['mango','banana','pear','kiwi',50,65,2.15]\n",
        "#accessing all element of the list using loop\n",
        "\n",
        "for i in list1:\n",
        "  print(i,end=' ')"
      ],
      "metadata": {
        "colab": {
          "base_uri": "https://localhost:8080/"
        },
        "id": "sVSNooF2N6EM",
        "outputId": "7f53a288-6a25-4ebf-a488-b2b19affb38f"
      },
      "execution_count": 16,
      "outputs": [
        {
          "output_type": "stream",
          "name": "stdout",
          "text": [
            "mango banana pear kiwi 50 65 2.15 "
          ]
        }
      ]
    },
    {
      "cell_type": "code",
      "source": [
        "#Modifying element in list\n",
        "#addition of new element\n",
        "list1.append(50)\n",
        "list1"
      ],
      "metadata": {
        "colab": {
          "base_uri": "https://localhost:8080/"
        },
        "id": "peyLQIlMSKBS",
        "outputId": "3ea394ef-e373-45fd-ba6f-44349e6fc045"
      },
      "execution_count": 18,
      "outputs": [
        {
          "output_type": "execute_result",
          "data": {
            "text/plain": [
              "['mango', 'banana', 'pear', 'kiwi', 50, 65, 2.15, 50]"
            ]
          },
          "metadata": {},
          "execution_count": 18
        }
      ]
    },
    {
      "cell_type": "code",
      "source": [
        "#deletion of an item in list at an index\n",
        "del list1[-1]\n",
        "list1"
      ],
      "metadata": {
        "colab": {
          "base_uri": "https://localhost:8080/"
        },
        "id": "eWSKY7_vn96y",
        "outputId": "593faa03-24f8-431e-a542-09ecb1e8b29f"
      },
      "execution_count": 22,
      "outputs": [
        {
          "output_type": "execute_result",
          "data": {
            "text/plain": [
              "['mango', 'banana', 'pear', 'kiwi', 50, 65, 2.15]"
            ]
          },
          "metadata": {},
          "execution_count": 22
        }
      ]
    },
    {
      "cell_type": "markdown",
      "source": [
        "Q4. Compare and contrast tuples and lists with examples."
      ],
      "metadata": {
        "id": "C3ZHbt92ovCJ"
      }
    },
    {
      "cell_type": "code",
      "source": [
        "#syntax of list\n",
        "list_ex=[1,2,3,'name','number']\n",
        "#syntax of tuple\n",
        "tuple_ex=(1,2,3,'name','number')\n",
        "\n",
        "print(list_ex)\n",
        "print(tuple_ex)"
      ],
      "metadata": {
        "colab": {
          "base_uri": "https://localhost:8080/"
        },
        "id": "aETaT3ImoNAg",
        "outputId": "215ad3bf-67d7-4a29-8659-ba27e070ebde"
      },
      "execution_count": 25,
      "outputs": [
        {
          "output_type": "stream",
          "name": "stdout",
          "text": [
            "[1, 2, 3, 'name', 'number']\n",
            "(1, 2, 3, 'name', 'number')\n"
          ]
        }
      ]
    },
    {
      "cell_type": "code",
      "source": [
        "#mutabilty\n",
        "\n",
        "#list are mutable\n",
        "list_ex[0]=50\n",
        "list_ex"
      ],
      "metadata": {
        "colab": {
          "base_uri": "https://localhost:8080/"
        },
        "id": "9kR8ZgkzouCd",
        "outputId": "e4fdcedb-a778-40f7-b1a4-c1c6ad68b835"
      },
      "execution_count": 26,
      "outputs": [
        {
          "output_type": "execute_result",
          "data": {
            "text/plain": [
              "[50, 2, 3, 'name', 'number']"
            ]
          },
          "metadata": {},
          "execution_count": 26
        }
      ]
    },
    {
      "cell_type": "code",
      "source": [
        "#tuples are immutable\n",
        "tuple_ex[0]=50"
      ],
      "metadata": {
        "colab": {
          "base_uri": "https://localhost:8080/",
          "height": 158
        },
        "id": "LcjMRTx3u36t",
        "outputId": "3e1c9db3-756a-4fc7-88a9-3accb5f74263"
      },
      "execution_count": 28,
      "outputs": [
        {
          "output_type": "error",
          "ename": "TypeError",
          "evalue": "'tuple' object does not support item assignment",
          "traceback": [
            "\u001b[0;31m---------------------------------------------------------------------------\u001b[0m",
            "\u001b[0;31mTypeError\u001b[0m                                 Traceback (most recent call last)",
            "\u001b[0;32m<ipython-input-28-210971fff9f4>\u001b[0m in \u001b[0;36m<cell line: 2>\u001b[0;34m()\u001b[0m\n\u001b[1;32m      1\u001b[0m \u001b[0;31m#tuples are immutable\u001b[0m\u001b[0;34m\u001b[0m\u001b[0;34m\u001b[0m\u001b[0m\n\u001b[0;32m----> 2\u001b[0;31m \u001b[0mtuple_ex\u001b[0m\u001b[0;34m[\u001b[0m\u001b[0;36m0\u001b[0m\u001b[0;34m]\u001b[0m\u001b[0;34m=\u001b[0m\u001b[0;36m50\u001b[0m\u001b[0;34m\u001b[0m\u001b[0;34m\u001b[0m\u001b[0m\n\u001b[0m",
            "\u001b[0;31mTypeError\u001b[0m: 'tuple' object does not support item assignment"
          ]
        }
      ]
    },
    {
      "cell_type": "markdown",
      "source": [
        "  Tuples have a fixed length, while lists can grow or shrink dynamically.\n",
        "\n",
        "  Lists have more built-in functions compared to tuples."
      ],
      "metadata": {
        "id": "7COtGtfb09s1"
      }
    },
    {
      "cell_type": "code",
      "source": [
        "dir(tuple_ex)"
      ],
      "metadata": {
        "colab": {
          "base_uri": "https://localhost:8080/"
        },
        "id": "cGUQbLA60oqF",
        "outputId": "d8908cd1-5b8c-45f6-91b1-e979b6ef2189"
      },
      "execution_count": 30,
      "outputs": [
        {
          "output_type": "execute_result",
          "data": {
            "text/plain": [
              "['__add__',\n",
              " '__class__',\n",
              " '__class_getitem__',\n",
              " '__contains__',\n",
              " '__delattr__',\n",
              " '__dir__',\n",
              " '__doc__',\n",
              " '__eq__',\n",
              " '__format__',\n",
              " '__ge__',\n",
              " '__getattribute__',\n",
              " '__getitem__',\n",
              " '__getnewargs__',\n",
              " '__gt__',\n",
              " '__hash__',\n",
              " '__init__',\n",
              " '__init_subclass__',\n",
              " '__iter__',\n",
              " '__le__',\n",
              " '__len__',\n",
              " '__lt__',\n",
              " '__mul__',\n",
              " '__ne__',\n",
              " '__new__',\n",
              " '__reduce__',\n",
              " '__reduce_ex__',\n",
              " '__repr__',\n",
              " '__rmul__',\n",
              " '__setattr__',\n",
              " '__sizeof__',\n",
              " '__str__',\n",
              " '__subclasshook__',\n",
              " 'count',\n",
              " 'index']"
            ]
          },
          "metadata": {},
          "execution_count": 30
        }
      ]
    },
    {
      "cell_type": "code",
      "source": [
        "dir(tuple_ex)"
      ],
      "metadata": {
        "colab": {
          "base_uri": "https://localhost:8080/"
        },
        "id": "2RPEaql_0yuz",
        "outputId": "e8eed2b0-b650-4a6c-9fe1-d731a624d259"
      },
      "execution_count": 31,
      "outputs": [
        {
          "output_type": "execute_result",
          "data": {
            "text/plain": [
              "['__add__',\n",
              " '__class__',\n",
              " '__class_getitem__',\n",
              " '__contains__',\n",
              " '__delattr__',\n",
              " '__dir__',\n",
              " '__doc__',\n",
              " '__eq__',\n",
              " '__format__',\n",
              " '__ge__',\n",
              " '__getattribute__',\n",
              " '__getitem__',\n",
              " '__getnewargs__',\n",
              " '__gt__',\n",
              " '__hash__',\n",
              " '__init__',\n",
              " '__init_subclass__',\n",
              " '__iter__',\n",
              " '__le__',\n",
              " '__len__',\n",
              " '__lt__',\n",
              " '__mul__',\n",
              " '__ne__',\n",
              " '__new__',\n",
              " '__reduce__',\n",
              " '__reduce_ex__',\n",
              " '__repr__',\n",
              " '__rmul__',\n",
              " '__setattr__',\n",
              " '__sizeof__',\n",
              " '__str__',\n",
              " '__subclasshook__',\n",
              " 'count',\n",
              " 'index']"
            ]
          },
          "metadata": {},
          "execution_count": 31
        }
      ]
    },
    {
      "cell_type": "markdown",
      "source": [
        "Q5. Describe the key features of sets and provide examples of their use.\n",
        "\n",
        "Ans:- Sets are an unordered collection of unique elements, meaning no duplicates are allowed. They are mutable, meaning they can be modified after creation. Sets are defined using the set() function or by using curly braces {}."
      ],
      "metadata": {
        "id": "GZNDmxpT141o"
      }
    },
    {
      "cell_type": "code",
      "source": [
        "#Uniqueness of a set\n",
        "setA={1,2,2,2,1,1,3,3,3,4,'cat','cat','dog'}\n",
        "setA"
      ],
      "metadata": {
        "colab": {
          "base_uri": "https://localhost:8080/"
        },
        "id": "NF3d68bV0yiT",
        "outputId": "5fba5fd3-352e-4f1a-b2f5-edc390878968"
      },
      "execution_count": 33,
      "outputs": [
        {
          "output_type": "execute_result",
          "data": {
            "text/plain": [
              "{1, 2, 3, 4, 'cat', 'dog'}"
            ]
          },
          "metadata": {},
          "execution_count": 33
        }
      ]
    },
    {
      "cell_type": "code",
      "source": [
        "#Mutability\n",
        "setA.add('crow')\n",
        "setA"
      ],
      "metadata": {
        "colab": {
          "base_uri": "https://localhost:8080/"
        },
        "id": "SiznMywB0yVb",
        "outputId": "3fa610c6-4e4f-4441-aa94-b9890f511621"
      },
      "execution_count": 37,
      "outputs": [
        {
          "output_type": "execute_result",
          "data": {
            "text/plain": [
              "{1, 2, 3, 4, 'cat', 'crow', 'dog'}"
            ]
          },
          "metadata": {},
          "execution_count": 37
        }
      ]
    },
    {
      "cell_type": "code",
      "source": [
        "setA.remove('crow')\n",
        "setA"
      ],
      "metadata": {
        "colab": {
          "base_uri": "https://localhost:8080/"
        },
        "id": "3gdYx7cx0yET",
        "outputId": "9a3699fe-b9cd-4f93-e730-e63a012cf016"
      },
      "execution_count": 40,
      "outputs": [
        {
          "output_type": "execute_result",
          "data": {
            "text/plain": [
              "{2, 3, 4, 'cat', 'dog'}"
            ]
          },
          "metadata": {},
          "execution_count": 40
        }
      ]
    },
    {
      "cell_type": "markdown",
      "source": [
        "Q6.  Discuss the use cases of tuples and sets in Python programming.\n",
        "\n",
        "Ans:- Both tuples and set have their uses in python.\n",
        "  Some of the uses of tuples are-\n",
        "\n",
        "  Database Records: Tuples are commonly used to represent database records.\n",
        "\n",
        "  Function Return Values-Functions can return multiple values as a tuple. This is useful when we need to return related data together.\n",
        "\n",
        "  Dictionary Keys- Tuples can be used as keys in dictionaries because they are immutable.\n",
        "\n",
        "  Performance Optimization- Tuples are faster than lists for iteration, making them suitable for read-only scenarios.\n",
        "\n",
        "      Some uses of sets are-\n",
        "\n",
        "  Removing Duplicates: Set remove duplicate elements.\n",
        "\n",
        "  Membership Testing: It checks if an element exists in a set efficiently.\n",
        "\n",
        "  Set Operations: Perform set operations like union, intersection, and difference.\n",
        "\n",
        "  Finding Unique Elements: Extract unique values from a sequence (e.g., removing duplicate names from a list)."
      ],
      "metadata": {
        "id": "vlm-v3ICKtTb"
      }
    },
    {
      "cell_type": "code",
      "source": [],
      "metadata": {
        "id": "hXxJiGy-0vsl"
      },
      "execution_count": null,
      "outputs": []
    },
    {
      "cell_type": "markdown",
      "source": [
        "Q7.  Describe how to add,modify and delete items in a dictionary with examples.\n"
      ],
      "metadata": {
        "id": "1xtvWWWDNqGK"
      }
    },
    {
      "cell_type": "code",
      "source": [
        "my_dic={'name':'Nitish','num':12345}\n",
        "my_dic"
      ],
      "metadata": {
        "colab": {
          "base_uri": "https://localhost:8080/"
        },
        "id": "n7QS73m10wNj",
        "outputId": "b86b9c6c-7e31-433f-f902-8a08661ca7c0"
      },
      "execution_count": 41,
      "outputs": [
        {
          "output_type": "execute_result",
          "data": {
            "text/plain": [
              "{'name': 'Nitish', 'num': 12345}"
            ]
          },
          "metadata": {},
          "execution_count": 41
        }
      ]
    },
    {
      "cell_type": "code",
      "source": [
        "#adding an item in dictionary\n",
        "my_dic['address']='siliguri'\n",
        "my_dic"
      ],
      "metadata": {
        "colab": {
          "base_uri": "https://localhost:8080/"
        },
        "id": "c9APNNTQRZB2",
        "outputId": "f1c98837-bbb7-46eb-ce4c-5750d51aff16"
      },
      "execution_count": 42,
      "outputs": [
        {
          "output_type": "execute_result",
          "data": {
            "text/plain": [
              "{'name': 'Nitish', 'num': 12345, 'address': 'siliguri'}"
            ]
          },
          "metadata": {},
          "execution_count": 42
        }
      ]
    },
    {
      "cell_type": "code",
      "source": [
        "#modifying existing dictionary\n",
        "my_dic['name']='murty'\n",
        "my_dic"
      ],
      "metadata": {
        "colab": {
          "base_uri": "https://localhost:8080/"
        },
        "id": "G7i9kIhbRYvt",
        "outputId": "37c1b4b1-af03-439f-da92-1e338f2e3571"
      },
      "execution_count": 43,
      "outputs": [
        {
          "output_type": "execute_result",
          "data": {
            "text/plain": [
              "{'name': 'murty', 'num': 12345, 'address': 'siliguri'}"
            ]
          },
          "metadata": {},
          "execution_count": 43
        }
      ]
    },
    {
      "cell_type": "code",
      "source": [
        "#deletion of elements in a dictionary\n",
        "del my_dic['name']\n",
        "my_dic"
      ],
      "metadata": {
        "colab": {
          "base_uri": "https://localhost:8080/"
        },
        "id": "GBqfL8R7RYYu",
        "outputId": "acd35ff1-3cff-4e18-d699-83095dc6ceee"
      },
      "execution_count": 45,
      "outputs": [
        {
          "output_type": "execute_result",
          "data": {
            "text/plain": [
              "{'num': 12345, 'address': 'siliguri'}"
            ]
          },
          "metadata": {},
          "execution_count": 45
        }
      ]
    },
    {
      "cell_type": "markdown",
      "source": [
        "Q8.  Discuss the importance of dictionary keys being immutable and provide examples\n",
        "\n",
        "Ans:- Dictionary keys being immutable means thet it cannot be changed after creation. This is a fundamental property of dictionaries, and it's essential for their proper functioning."
      ],
      "metadata": {
        "id": "mHfDYnLiWUpM"
      }
    },
    {
      "cell_type": "code",
      "source": [
        "#making an immutible dictionary\n",
        "my_dic2=dict(frozen=True,name='nitish',num=456789)\n",
        "print(my_dic2)\n",
        "type(my_dic2)"
      ],
      "metadata": {
        "colab": {
          "base_uri": "https://localhost:8080/"
        },
        "id": "adThDrGMRWiE",
        "outputId": "6e2d3f8e-d767-489d-c696-4db723fa4957"
      },
      "execution_count": 64,
      "outputs": [
        {
          "output_type": "stream",
          "name": "stdout",
          "text": [
            "{'frozen': True, 'name': 'nitish', 'num': 456789}\n"
          ]
        },
        {
          "output_type": "execute_result",
          "data": {
            "text/plain": [
              "dict"
            ]
          },
          "metadata": {},
          "execution_count": 64
        }
      ]
    },
    {
      "cell_type": "code",
      "source": [
        "#Trying to edit/change the new dictionary\n",
        "my_dic2['name']='murty'\n",
        "my_dic2"
      ],
      "metadata": {
        "colab": {
          "base_uri": "https://localhost:8080/"
        },
        "id": "2X3Jv5F2Y1He",
        "outputId": "503f2a74-a966-4ad0-a49a-d7cb808e73c3"
      },
      "execution_count": 65,
      "outputs": [
        {
          "output_type": "execute_result",
          "data": {
            "text/plain": [
              "{'frozen': True, 'name': 'murty', 'num': 456789}"
            ]
          },
          "metadata": {},
          "execution_count": 65
        }
      ]
    },
    {
      "cell_type": "code",
      "source": [],
      "metadata": {
        "id": "FefsDgkJde_U"
      },
      "execution_count": null,
      "outputs": []
    },
    {
      "cell_type": "code",
      "source": [],
      "metadata": {
        "id": "LzmHbeW0ds7T"
      },
      "execution_count": null,
      "outputs": []
    }
  ]
}