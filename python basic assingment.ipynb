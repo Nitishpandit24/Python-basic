{
 "cells": [
  {
   "cell_type": "markdown",
   "id": "48f1e999-c3f4-4eb3-8446-5fdd393c897a",
   "metadata": {},
   "source": [
    "Q1.Explain the key features of python that make it a popular choice for programming."
   ]
  },
  {
   "cell_type": "markdown",
   "id": "9ac97ea1-735f-4287-9751-d65468950a67",
   "metadata": {},
   "source": [
    "Ans:- Some of the key factors that make python programming a popular choice are-\n",
    "\n",
    "    a. Python has a smooth learning curve and straightforward syntax compared to other launguages like c,c++,java,etc., making it very easy to learn.\n",
    "    b. Python is an open source and free, with a very active community.\n",
    "    c. Pythone supports a huge standard library, making program development time significantly less."
   ]
  },
  {
   "cell_type": "raw",
   "id": "e3d8a352-5fbc-4db9-9a02-7a378a134029",
   "metadata": {},
   "source": [
    "#############################################################################"
   ]
  },
  {
   "cell_type": "raw",
   "id": "f38f9664-3fcb-449a-8a80-31f9e865c440",
   "metadata": {},
   "source": [
    "Q2. Describe the role of predefined keywords in Python and provide examples of how they are used in a program."
   ]
  },
  {
   "cell_type": "markdown",
   "id": "11bf13a4-c73c-427e-9473-832365ceb0b8",
   "metadata": {},
   "source": [
    "Ans:- keywords are predefined reserved words that have specific meanings within the language. They serve as fundamental building blocks and cannot be used as variable names or function names.\n",
    "\n",
    "Some examples of pythone keywords are- if,elif,else,and,or,true,false,for,while,etc., and many more."
   ]
  },
  {
   "cell_type": "code",
   "execution_count": 7,
   "id": "65c83c87-40f6-4df8-9a1f-48f510df5108",
   "metadata": {},
   "outputs": [
    {
     "name": "stdout",
     "output_type": "stream",
     "text": [
      "b is greater then a\n"
     ]
    }
   ],
   "source": [
    "#Practical examples>> correct way of handling keywords\n",
    "a=5\n",
    "b=6\n",
    "if a>b:\n",
    "    print('a is greater then b')\n",
    "else:\n",
    "    print('b is greater then a')"
   ]
  },
  {
   "cell_type": "code",
   "execution_count": 8,
   "id": "f585709a-5bbe-4af7-aea2-01e278014f8a",
   "metadata": {},
   "outputs": [
    {
     "ename": "SyntaxError",
     "evalue": "invalid syntax (1098065176.py, line 2)",
     "output_type": "error",
     "traceback": [
      "\u001b[0;36m  Cell \u001b[0;32mIn[8], line 2\u001b[0;36m\u001b[0m\n\u001b[0;31m    if =6\u001b[0m\n\u001b[0m       ^\u001b[0m\n\u001b[0;31mSyntaxError\u001b[0m\u001b[0;31m:\u001b[0m invalid syntax\n"
     ]
    }
   ],
   "source": [
    "#Practical examples>> incorrect way of handling keywords\n",
    "if =6\n",
    "for=5\n",
    "if if>for:\n",
    "    print('if is greater then for')\n",
    "else:\n",
    "    print('for is greater then if')"
   ]
  },
  {
   "cell_type": "raw",
   "id": "5bd398c6-9364-4523-8f4a-665404ad6167",
   "metadata": {
    "tags": []
   },
   "source": [
    "###############################################################################"
   ]
  },
  {
   "cell_type": "raw",
   "id": "3645d0ba-3830-4cd9-812a-7733cdcc939f",
   "metadata": {},
   "source": [
    "Q3. Compare and contrast mutable and immutable objects in Python with examples."
   ]
  },
  {
   "cell_type": "raw",
   "id": "d9a9b473-7882-41ac-b3fc-f81f53604b5a",
   "metadata": {},
   "source": [
    "Ans:- Objects whose values can be changed after their creation are called mutable object and those whose values cannot be changes after their creation is known as immutable objects.\n",
    "\n",
    "Example of mutable datatypes are- Lists, Dictionary, Custom classes,etc.\n",
    "Example of immutable datatypes are- String,Tuples,etc."
   ]
  },
  {
   "cell_type": "code",
   "execution_count": 9,
   "id": "fad5c526-d3ca-4743-ae28-87655defe4fa",
   "metadata": {},
   "outputs": [
    {
     "data": {
      "text/plain": [
       "[4, 5.2, (5+6j), 'Nitish']"
      ]
     },
     "execution_count": 9,
     "metadata": {},
     "output_type": "execute_result"
    }
   ],
   "source": [
    "#Mutable datatypes\n",
    "list_1=[4,5.2,5+6j,'Nitish']\n",
    "list_1"
   ]
  },
  {
   "cell_type": "code",
   "execution_count": 10,
   "id": "f41554b2-c45f-4524-bc3c-09469d35416b",
   "metadata": {},
   "outputs": [
    {
     "data": {
      "text/plain": [
       "[3, 5.2, (5+6j), 'Nitish']"
      ]
     },
     "execution_count": 10,
     "metadata": {},
     "output_type": "execute_result"
    }
   ],
   "source": [
    "list_1[0]=3\n",
    "list_1"
   ]
  },
  {
   "cell_type": "code",
   "execution_count": 11,
   "id": "1ed647ef-40b6-4450-9118-a8a58a054321",
   "metadata": {},
   "outputs": [
    {
     "data": {
      "text/plain": [
       "'nitish'"
      ]
     },
     "execution_count": 11,
     "metadata": {},
     "output_type": "execute_result"
    }
   ],
   "source": [
    "#Immutable datatypes>>\n",
    "name='nitish'\n",
    "name"
   ]
  },
  {
   "cell_type": "code",
   "execution_count": 12,
   "id": "c08a9424-68eb-42ec-9264-db4f99fa9bca",
   "metadata": {},
   "outputs": [
    {
     "ename": "TypeError",
     "evalue": "'str' object does not support item assignment",
     "output_type": "error",
     "traceback": [
      "\u001b[0;31m---------------------------------------------------------------------------\u001b[0m",
      "\u001b[0;31mTypeError\u001b[0m                                 Traceback (most recent call last)",
      "Cell \u001b[0;32mIn[12], line 1\u001b[0m\n\u001b[0;32m----> 1\u001b[0m \u001b[43mname\u001b[49m\u001b[43m[\u001b[49m\u001b[38;5;241;43m0\u001b[39;49m\u001b[43m]\u001b[49m\u001b[38;5;241m=\u001b[39m\u001b[38;5;124m'\u001b[39m\u001b[38;5;124ml\u001b[39m\u001b[38;5;124m'\u001b[39m\n",
      "\u001b[0;31mTypeError\u001b[0m: 'str' object does not support item assignment"
     ]
    }
   ],
   "source": [
    "name[0]='l'"
   ]
  },
  {
   "cell_type": "markdown",
   "id": "c3dbf367-7ba4-4b46-843e-960904fdb819",
   "metadata": {},
   "source": [
    "#############################################################################"
   ]
  },
  {
   "cell_type": "raw",
   "id": "aaf90104-be34-43ed-9fe8-7e19f7282d94",
   "metadata": {},
   "source": [
    "Q4. Discuss the different types of operators in Python and provide examples of how they are used."
   ]
  },
  {
   "cell_type": "raw",
   "id": "f481421e-ebb7-4a1f-9963-7134c27128e3",
   "metadata": {},
   "source": [
    "Ans:- There are differrent types of operators in python, but they can mainly be divided into Arithmetic operators,Assignment operators,\n",
    "Comparison operators,Logical operators,Bitwise operators,Identity operators & Membership operator."
   ]
  },
  {
   "cell_type": "code",
   "execution_count": 13,
   "id": "10a7bab1-e2a3-4200-85d2-79cc8611e117",
   "metadata": {},
   "outputs": [
    {
     "data": {
      "text/plain": [
       "1.25"
      ]
     },
     "execution_count": 13,
     "metadata": {},
     "output_type": "execute_result"
    }
   ],
   "source": [
    "#Arithemetic operators >> Used to perform common mathematical operations. e.g., +,/,*,-\n",
    "\n",
    "a=5\n",
    "b=3\n",
    "c=10\n",
    "c/(a+b)"
   ]
  },
  {
   "cell_type": "code",
   "execution_count": 14,
   "id": "dffabc79-6a35-4000-9fa6-05b7586c6802",
   "metadata": {},
   "outputs": [
    {
     "data": {
      "text/plain": [
       "10"
      ]
     },
     "execution_count": 14,
     "metadata": {},
     "output_type": "execute_result"
    }
   ],
   "source": [
    "#Assignment operators >> Used to assign values to variables. eg., =,+=,-=,etc;\n",
    "\n",
    "n=10\n",
    "n"
   ]
  },
  {
   "cell_type": "code",
   "execution_count": 15,
   "id": "526508fc-d596-40ad-ac27-3d0310fc6c9f",
   "metadata": {},
   "outputs": [
    {
     "data": {
      "text/plain": [
       "15"
      ]
     },
     "execution_count": 15,
     "metadata": {},
     "output_type": "execute_result"
    }
   ],
   "source": [
    "n+=5\n",
    "n"
   ]
  },
  {
   "cell_type": "code",
   "execution_count": 16,
   "id": "0ccbcb10-4362-4358-852b-f3707f004019",
   "metadata": {},
   "outputs": [
    {
     "data": {
      "text/plain": [
       "False"
      ]
     },
     "execution_count": 16,
     "metadata": {},
     "output_type": "execute_result"
    }
   ],
   "source": [
    "#Comparison operators >> Used to compare two values. e.g., ==,<,>,<=,>=\n",
    "a=5\n",
    "b=6\n",
    "a==b"
   ]
  },
  {
   "cell_type": "raw",
   "id": "fc83b2b7-5844-4512-96c1-ce74bebe6f13",
   "metadata": {
    "tags": []
   },
   "source": [
    "###################################################################################"
   ]
  },
  {
   "cell_type": "raw",
   "id": "5170bf8a-d65a-4d25-a06f-1b3d23481233",
   "metadata": {},
   "source": [
    "Q5. Explain the concept of type casting in Python with examples."
   ]
  },
  {
   "cell_type": "raw",
   "id": "b3cdb210-b16c-40d8-aa07-21e30274b024",
   "metadata": {},
   "source": [
    "Ans:- Type casting in Python refers to converting a variable from one data type to another."
   ]
  },
  {
   "cell_type": "code",
   "execution_count": 17,
   "id": "bc97149f-43ee-42cc-8563-05335851ec63",
   "metadata": {},
   "outputs": [
    {
     "data": {
      "text/plain": [
       "int"
      ]
     },
     "execution_count": 17,
     "metadata": {},
     "output_type": "execute_result"
    }
   ],
   "source": [
    "#example\n",
    "a=5\n",
    "type(a)"
   ]
  },
  {
   "cell_type": "code",
   "execution_count": 18,
   "id": "0497e8fb-b7ba-4c8a-bb26-3f5ef81aa8d4",
   "metadata": {},
   "outputs": [
    {
     "name": "stdout",
     "output_type": "stream",
     "text": [
      "5.0\n"
     ]
    },
    {
     "data": {
      "text/plain": [
       "float"
      ]
     },
     "execution_count": 18,
     "metadata": {},
     "output_type": "execute_result"
    }
   ],
   "source": [
    "n=float(a)\n",
    "print(n)\n",
    "type(n)"
   ]
  },
  {
   "cell_type": "raw",
   "id": "20f20012-441d-4f94-aec6-cd47766c8400",
   "metadata": {},
   "source": [
    "##########################################################################################"
   ]
  },
  {
   "cell_type": "raw",
   "id": "bd8c4bf4-4e8d-4a4f-8dc9-0748813a675b",
   "metadata": {},
   "source": [
    "Q6. How do conditional statements work in Python? Illustrate with examples."
   ]
  },
  {
   "cell_type": "raw",
   "id": "0749f219-7655-4b22-8604-8d3c4d507711",
   "metadata": {},
   "source": [
    "Ans:- Conditional statements in Python allow us to make decisions based on weather certain conditions are being satisfied or not."
   ]
  },
  {
   "cell_type": "code",
   "execution_count": 19,
   "id": "92d505cf-d5aa-4e3c-832d-6ae26656f1a8",
   "metadata": {},
   "outputs": [
    {
     "name": "stdout",
     "output_type": "stream",
     "text": [
      "Number is less than 10\n"
     ]
    }
   ],
   "source": [
    "#example\n",
    "num=0\n",
    "if num<10:\n",
    "    print('Number is less than 10')\n",
    "else:\n",
    "    print('Number is greater then 10')"
   ]
  },
  {
   "cell_type": "code",
   "execution_count": 20,
   "id": "681f8cc0-8885-404e-8222-83606d3c9e40",
   "metadata": {},
   "outputs": [
    {
     "name": "stdout",
     "output_type": "stream",
     "text": [
      "Number is greater then 10\n"
     ]
    }
   ],
   "source": [
    "num=110\n",
    "if num<10:\n",
    "    print('Number is less than 10')\n",
    "else:\n",
    "    print('Number is greater then 10')"
   ]
  },
  {
   "cell_type": "raw",
   "id": "cfffdb7b-2c71-44f0-a90e-5fe470e50542",
   "metadata": {},
   "source": [
    "############################################################################################"
   ]
  },
  {
   "cell_type": "raw",
   "id": "1078a065-54e8-4916-a8d4-fc7c3e3222c2",
   "metadata": {},
   "source": [
    "Q7.  Describe the different types of loops in Python and their use cases with examples."
   ]
  },
  {
   "cell_type": "raw",
   "id": "398a0bde-23a5-4392-b9af-26401b033df5",
   "metadata": {},
   "source": [
    "Ans:- There are two type of loops in python- for loop & while loop."
   ]
  },
  {
   "cell_type": "code",
   "execution_count": 21,
   "id": "00c49c2a-6ecc-486b-a43a-6c51f0739f6f",
   "metadata": {},
   "outputs": [
    {
     "name": "stdout",
     "output_type": "stream",
     "text": [
      "0 1 2 3 4 5 6 7 8 9 10 "
     ]
    }
   ],
   "source": [
    "#for loop \n",
    "a=10\n",
    "for i in range(0,a+1):\n",
    "    print(i,end=' ')"
   ]
  },
  {
   "cell_type": "code",
   "execution_count": 22,
   "id": "a4774efa-28b8-4567-862d-9ed4cf9b924a",
   "metadata": {},
   "outputs": [
    {
     "name": "stdout",
     "output_type": "stream",
     "text": [
      "0 1 2 3 4 5 6 7 8 9 "
     ]
    }
   ],
   "source": [
    "#while loop\n",
    "a=0\n",
    "while a<10:\n",
    "    print(a,end=' ')\n",
    "    a+=1"
   ]
  },
  {
   "cell_type": "code",
   "execution_count": null,
   "id": "e9cd2894-222c-4db3-830c-e4b9d3b5c84a",
   "metadata": {},
   "outputs": [],
   "source": []
  },
  {
   "cell_type": "code",
   "execution_count": null,
   "id": "aae76b3b-90d8-4cbe-a290-c8b6d15f9c57",
   "metadata": {},
   "outputs": [],
   "source": []
  },
  {
   "cell_type": "code",
   "execution_count": null,
   "id": "3ac64d71-7ad0-4fbf-8c5a-f3f2a143042c",
   "metadata": {},
   "outputs": [],
   "source": []
  },
  {
   "cell_type": "code",
   "execution_count": null,
   "id": "6723217a-8bb9-4603-bf29-eab09c04fa8a",
   "metadata": {},
   "outputs": [],
   "source": []
  },
  {
   "cell_type": "code",
   "execution_count": null,
   "id": "6f8300c8-10ea-496d-90b6-c72f4270be6c",
   "metadata": {},
   "outputs": [],
   "source": []
  },
  {
   "cell_type": "code",
   "execution_count": null,
   "id": "d8c72704-57d2-48f9-a129-e718cf89338f",
   "metadata": {},
   "outputs": [],
   "source": []
  },
  {
   "cell_type": "code",
   "execution_count": null,
   "id": "ac3ea395-de56-40e2-9d7a-726a78bf554a",
   "metadata": {},
   "outputs": [],
   "source": []
  },
  {
   "cell_type": "code",
   "execution_count": null,
   "id": "41fa4c12-c2b4-4d23-8e9a-5d658c0b1c5e",
   "metadata": {},
   "outputs": [],
   "source": []
  },
  {
   "cell_type": "code",
   "execution_count": null,
   "id": "dcdcd25f-5e8c-4135-ad72-e377e0c51345",
   "metadata": {},
   "outputs": [],
   "source": []
  },
  {
   "cell_type": "code",
   "execution_count": null,
   "id": "9e1fdffe-66d9-4ca0-b22c-ae57f612870e",
   "metadata": {},
   "outputs": [],
   "source": []
  },
  {
   "cell_type": "code",
   "execution_count": null,
   "id": "a0174159-daac-4514-9e0a-676f5bbed178",
   "metadata": {},
   "outputs": [],
   "source": []
  },
  {
   "cell_type": "code",
   "execution_count": null,
   "id": "a64d989d-2faa-4e8c-8e2a-3aca4dce6401",
   "metadata": {},
   "outputs": [],
   "source": []
  },
  {
   "cell_type": "code",
   "execution_count": null,
   "id": "cf4f0f2d-5149-4a08-b4be-5692ecfd45ae",
   "metadata": {},
   "outputs": [],
   "source": []
  },
  {
   "cell_type": "code",
   "execution_count": null,
   "id": "e454b1d7-3015-4866-9bab-cd30d8750a23",
   "metadata": {},
   "outputs": [],
   "source": []
  },
  {
   "cell_type": "code",
   "execution_count": null,
   "id": "26afa4f9-b510-47af-9caa-72ebef9f6718",
   "metadata": {},
   "outputs": [],
   "source": []
  },
  {
   "cell_type": "code",
   "execution_count": null,
   "id": "03b6ff0f-e944-429c-8b64-7db84f3e5850",
   "metadata": {},
   "outputs": [],
   "source": []
  },
  {
   "cell_type": "code",
   "execution_count": null,
   "id": "280d7b49-e8c2-4d59-a9d3-d9ee3644ee9b",
   "metadata": {},
   "outputs": [],
   "source": []
  },
  {
   "cell_type": "code",
   "execution_count": null,
   "id": "67d342bf-caaa-42fc-8636-92e06721c722",
   "metadata": {},
   "outputs": [],
   "source": []
  },
  {
   "cell_type": "code",
   "execution_count": null,
   "id": "8ad4d333-a5b7-4591-8985-5ef47025adc4",
   "metadata": {},
   "outputs": [],
   "source": []
  },
  {
   "cell_type": "code",
   "execution_count": null,
   "id": "15aae427-3d0d-4977-bc57-bdc87191ba46",
   "metadata": {},
   "outputs": [],
   "source": []
  },
  {
   "cell_type": "code",
   "execution_count": null,
   "id": "f83ce6e2-bd2e-4d40-9733-9b8a1e07fe66",
   "metadata": {},
   "outputs": [],
   "source": []
  },
  {
   "cell_type": "code",
   "execution_count": null,
   "id": "b36123fe-bbf6-4380-98b1-1e969ba7b323",
   "metadata": {},
   "outputs": [],
   "source": []
  },
  {
   "cell_type": "code",
   "execution_count": null,
   "id": "cd3e0c52-c511-4129-af87-d86de7ef8db9",
   "metadata": {},
   "outputs": [],
   "source": []
  },
  {
   "cell_type": "code",
   "execution_count": null,
   "id": "2a82bd1e-28dc-4668-bddb-fbdfd3c493b7",
   "metadata": {},
   "outputs": [],
   "source": []
  },
  {
   "cell_type": "code",
   "execution_count": null,
   "id": "437599be-9529-443d-a4c1-f76dba0d4f13",
   "metadata": {},
   "outputs": [],
   "source": []
  },
  {
   "cell_type": "code",
   "execution_count": null,
   "id": "8a4b7fda-fe8c-4148-bd7f-416f1d0e31c1",
   "metadata": {},
   "outputs": [],
   "source": []
  },
  {
   "cell_type": "code",
   "execution_count": null,
   "id": "5fcb6842-2db7-4ef1-a728-a3194b61ea96",
   "metadata": {},
   "outputs": [],
   "source": []
  },
  {
   "cell_type": "code",
   "execution_count": null,
   "id": "38c4fee7-d086-461e-9203-8e696d4d57bb",
   "metadata": {},
   "outputs": [],
   "source": []
  },
  {
   "cell_type": "code",
   "execution_count": null,
   "id": "300d96f0-1e5e-4679-aec1-defc248d041e",
   "metadata": {},
   "outputs": [],
   "source": []
  },
  {
   "cell_type": "code",
   "execution_count": null,
   "id": "aa3d13f5-87e6-4569-93d9-4389c27aac66",
   "metadata": {},
   "outputs": [],
   "source": []
  },
  {
   "cell_type": "code",
   "execution_count": null,
   "id": "4512f866-c8f5-4206-b4cb-01f57f8fd77e",
   "metadata": {},
   "outputs": [],
   "source": []
  },
  {
   "cell_type": "code",
   "execution_count": null,
   "id": "1ff698dc-0ecb-4777-9bdf-f4b95464febf",
   "metadata": {},
   "outputs": [],
   "source": []
  },
  {
   "cell_type": "code",
   "execution_count": null,
   "id": "cdb705f5-6b95-4243-bf01-079cfaf13058",
   "metadata": {},
   "outputs": [],
   "source": []
  },
  {
   "cell_type": "code",
   "execution_count": null,
   "id": "ff82adb0-f3ef-4e71-86fa-8a16dc59931d",
   "metadata": {},
   "outputs": [],
   "source": []
  },
  {
   "cell_type": "code",
   "execution_count": null,
   "id": "529e0afd-0619-42dc-9034-7957c5006f3f",
   "metadata": {},
   "outputs": [],
   "source": []
  }
 ],
 "metadata": {
  "kernelspec": {
   "display_name": "Python 3 (ipykernel)",
   "language": "python",
   "name": "python3"
  },
  "language_info": {
   "codemirror_mode": {
    "name": "ipython",
    "version": 3
   },
   "file_extension": ".py",
   "mimetype": "text/x-python",
   "name": "python",
   "nbconvert_exporter": "python",
   "pygments_lexer": "ipython3",
   "version": "3.10.8"
  }
 },
 "nbformat": 4,
 "nbformat_minor": 5
}
