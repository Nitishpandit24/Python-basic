{
  "nbformat": 4,
  "nbformat_minor": 0,
  "metadata": {
    "colab": {
      "provenance": []
    },
    "kernelspec": {
      "name": "python3",
      "display_name": "Python 3"
    },
    "language_info": {
      "name": "python"
    }
  },
  "cells": [
    {
      "cell_type": "markdown",
      "source": [
        "1. What are the five key concepts of Object-Oriented Programming (OOP)?"
      ],
      "metadata": {
        "id": "1e5Sxri8qZYl"
      }
    },
    {
      "cell_type": "markdown",
      "source": [
        "Ans: Object-Oriented Programming (OOP) is a programming paradigm that uses objects and classes to structure software. The five key concepts of OOP are:\n",
        "\n",
        "1. Classes and Objects:\n",
        "      \n",
        "      Class: A blueprint for creating objects. It defines a datatype by bundling data and methods that work on the data into one single unit.\n",
        "      Object: An instance of a class. It is created from a class and can have unique values for its properties.\n",
        "2. Encapsulation:\n",
        "  This concept involves bundling the data (variables) and the methods (functions) that operate on the data into a single unit, or class. It also restricts direct access to some of the object's components, which is a means of preventing accidental interference and misuse of the data.\n",
        "3. Inheritance:\n",
        "  This allows a new class to inherit properties and methods from an existing class. The new class is called a subclass (or derived class), and the existing class is called a superclass (or base class). Inheritance promotes code reusability.\n",
        "4. Polymorphism:\n",
        "  This allows objects to be treated as instances of their parent class rather than their actual class. The most common use of polymorphism is when a parent class reference is used to refer to a child class object. It allows one interface to be used for a general class of actions.\n",
        "5. Abstraction:\n",
        "  This concept involves hiding the complex implementation details and showing only the essential features of the object."
      ],
      "metadata": {
        "id": "g63wKpMdqcst"
      }
    },
    {
      "cell_type": "code",
      "execution_count": 47,
      "metadata": {
        "id": "bney3VbzXKeI"
      },
      "outputs": [],
      "source": []
    },
    {
      "cell_type": "markdown",
      "source": [
        "2. Write a Python class for a `Car` with attributes for `make`, `model`, and `year`. Include a method to display\n",
        "the car's information."
      ],
      "metadata": {
        "id": "7UcPTDMvrldF"
      }
    },
    {
      "cell_type": "code",
      "source": [
        "class Car():\n",
        "  def __init__(self,make,model,year):\n",
        "    self.make=make\n",
        "    self.model=model\n",
        "    self.year=year\n",
        "\n",
        "  def display_info(self):\n",
        "    print(f\"Make: {self.make}\\nModel: {self.model}\\nYear: {self.year}\")"
      ],
      "metadata": {
        "id": "5Rb55Ndrrmp8"
      },
      "execution_count": 48,
      "outputs": []
    },
    {
      "cell_type": "code",
      "source": [
        "c1=Car(\"Tata\",\"Safari\",\"2024\")"
      ],
      "metadata": {
        "id": "yg9_dq5Ur8Ml"
      },
      "execution_count": 49,
      "outputs": []
    },
    {
      "cell_type": "code",
      "source": [
        "c1.display_info()"
      ],
      "metadata": {
        "colab": {
          "base_uri": "https://localhost:8080/"
        },
        "id": "xt9xvAX2sFfa",
        "outputId": "9ac273fc-3501-4735-ab0d-4b66df563f73"
      },
      "execution_count": 50,
      "outputs": [
        {
          "output_type": "stream",
          "name": "stdout",
          "text": [
            "Make: Tata\n",
            "Model: Safari\n",
            "Year: 2024\n"
          ]
        }
      ]
    },
    {
      "cell_type": "markdown",
      "source": [
        "3. Explain the difference between instance methods and class methods. Provide an example of each."
      ],
      "metadata": {
        "id": "-pAwCiAesK2u"
      }
    },
    {
      "cell_type": "markdown",
      "source": [
        "Ans: Instance method:\n",
        "  Instance methods are methods that belong to an instance of a class, i.e., an object. They operate on the data of a specific object and can access and modify its attributes."
      ],
      "metadata": {
        "id": "HRzlCJrivZ1X"
      }
    },
    {
      "cell_type": "code",
      "source": [
        "class Dog():\n",
        "  def __init__(self,name,age):\n",
        "    self.name=name\n",
        "    self.age=age\n",
        "\n",
        "  def show_details(self):\n",
        "    print(f\"My dog's name is {self.name} and is {self.age} year old\")"
      ],
      "metadata": {
        "id": "8FxD8TWnsKbr"
      },
      "execution_count": 51,
      "outputs": []
    },
    {
      "cell_type": "code",
      "source": [
        "d1=Dog(\"Jimmiy\",105)"
      ],
      "metadata": {
        "id": "vdRPqVt0v67_"
      },
      "execution_count": 52,
      "outputs": []
    },
    {
      "cell_type": "code",
      "source": [
        "d1.show_details()"
      ],
      "metadata": {
        "colab": {
          "base_uri": "https://localhost:8080/"
        },
        "id": "82GrkayVwBQc",
        "outputId": "7efcb850-0a69-4a11-ff68-bb364c43996e"
      },
      "execution_count": 53,
      "outputs": [
        {
          "output_type": "stream",
          "name": "stdout",
          "text": [
            "My dog's name is Jimmiy and is 105 year old\n"
          ]
        }
      ]
    },
    {
      "cell_type": "markdown",
      "source": [
        "Class methods:\n",
        "  Class methods, on the other hand, belong to the class itself, rather than an instance of the class. They operate on the class level and can be used to perform actions that are related to the class as a whole, rather than a specific object."
      ],
      "metadata": {
        "id": "HgEKCgrewGTv"
      }
    },
    {
      "cell_type": "code",
      "source": [
        "class Car():\n",
        "  company=\"TATA\"\n",
        "\n",
        "  @classmethod\n",
        "  def show_details(cls):\n",
        "    print(cls.company)"
      ],
      "metadata": {
        "id": "_cgi9bWfwDc8"
      },
      "execution_count": 54,
      "outputs": []
    },
    {
      "cell_type": "code",
      "source": [
        "Car.show_details()"
      ],
      "metadata": {
        "id": "WtqBLkdRwMg1",
        "colab": {
          "base_uri": "https://localhost:8080/"
        },
        "outputId": "b8cdd596-7366-4f39-9760-dbe60260167f"
      },
      "execution_count": 55,
      "outputs": [
        {
          "output_type": "stream",
          "name": "stdout",
          "text": [
            "TATA\n"
          ]
        }
      ]
    },
    {
      "cell_type": "markdown",
      "source": [
        "4. How does Python implement method overloading? Give an example."
      ],
      "metadata": {
        "id": "wGE9B2uPL9qE"
      }
    },
    {
      "cell_type": "code",
      "source": [
        "class Collage():\n",
        "  def detail(self):\n",
        "    print(\"Collage name is Pwskill\")\n",
        "  def detail(self,name=\"\"):\n",
        "    print(\"Collage name is Pwskill \",name)\n",
        "  def detail(self,name=\"\",location=\"\"):\n",
        "    print(\"Collage name is Pwskill \",name,location)"
      ],
      "metadata": {
        "id": "UYb1aGIRL8g_"
      },
      "execution_count": 56,
      "outputs": []
    },
    {
      "cell_type": "code",
      "source": [
        "c1=Collage()"
      ],
      "metadata": {
        "id": "e8fwYAl_UGse"
      },
      "execution_count": 57,
      "outputs": []
    },
    {
      "cell_type": "code",
      "source": [
        "c1.detail()"
      ],
      "metadata": {
        "colab": {
          "base_uri": "https://localhost:8080/"
        },
        "id": "ToqRCXc5UOlt",
        "outputId": "7253b416-b52c-49c2-f93b-bb53ada9b749"
      },
      "execution_count": 58,
      "outputs": [
        {
          "output_type": "stream",
          "name": "stdout",
          "text": [
            "Collage name is Pwskill   \n"
          ]
        }
      ]
    },
    {
      "cell_type": "code",
      "source": [
        "c1.detail('Nitish')"
      ],
      "metadata": {
        "colab": {
          "base_uri": "https://localhost:8080/"
        },
        "id": "pPBOF1KqUUQV",
        "outputId": "99a00bb5-2da9-48f1-9c9c-288ebb542c33"
      },
      "execution_count": 59,
      "outputs": [
        {
          "output_type": "stream",
          "name": "stdout",
          "text": [
            "Collage name is Pwskill  Nitish \n"
          ]
        }
      ]
    },
    {
      "cell_type": "code",
      "source": [
        "c1.detail('Nitish','Delhi')"
      ],
      "metadata": {
        "colab": {
          "base_uri": "https://localhost:8080/"
        },
        "id": "c9LYmWXkkiFj",
        "outputId": "ec78e1a5-d5e6-430e-e150-52f44a00b0a5"
      },
      "execution_count": 60,
      "outputs": [
        {
          "output_type": "stream",
          "name": "stdout",
          "text": [
            "Collage name is Pwskill  Nitish Delhi\n"
          ]
        }
      ]
    },
    {
      "cell_type": "markdown",
      "source": [
        "5.  What are the three types of access modifiers in Python? How are they denoted?"
      ],
      "metadata": {
        "id": "_TU9s2Tllf4Q"
      }
    },
    {
      "cell_type": "markdown",
      "source": [
        "Ans: In Python, there are three types of access modifiers: public, protected, and private."
      ],
      "metadata": {
        "id": "Lt8HInyAt6NV"
      }
    },
    {
      "cell_type": "code",
      "source": [
        "#Public modifier:\n",
        "\n",
        "class Greet():\n",
        "  def message(self,name):\n",
        "    print(f\"Welcome {name}\")"
      ],
      "metadata": {
        "id": "CBqrIoFLlaAz"
      },
      "execution_count": 61,
      "outputs": []
    },
    {
      "cell_type": "code",
      "source": [
        "c1=Greet()"
      ],
      "metadata": {
        "id": "0McB2A-PlfYP"
      },
      "execution_count": 62,
      "outputs": []
    },
    {
      "cell_type": "code",
      "source": [
        "c1.message(\"Nitish\")"
      ],
      "metadata": {
        "colab": {
          "base_uri": "https://localhost:8080/"
        },
        "id": "IfIbl6QKuyMT",
        "outputId": "898913af-9424-4200-e614-36ed82e58a7a"
      },
      "execution_count": 63,
      "outputs": [
        {
          "output_type": "stream",
          "name": "stdout",
          "text": [
            "Welcome Nitish\n"
          ]
        }
      ]
    },
    {
      "cell_type": "code",
      "source": [
        "#Private method\n",
        "\n",
        "class Company():\n",
        "  def __init__(self,name,salary):\n",
        "    self.__name=name\n",
        "    self.__salary=salary\n",
        "\n",
        "  def show_details(self):\n",
        "    print(f\"Name: {self.__name}\\nSalary: {self.__salary}\")"
      ],
      "metadata": {
        "id": "-twBEJ8pu1nL"
      },
      "execution_count": 64,
      "outputs": []
    },
    {
      "cell_type": "code",
      "source": [
        "e1=Company(\"Nitish\",1000000)"
      ],
      "metadata": {
        "id": "hm1DDWt6wjBI"
      },
      "execution_count": 65,
      "outputs": []
    },
    {
      "cell_type": "code",
      "source": [
        "e1.show_details()"
      ],
      "metadata": {
        "colab": {
          "base_uri": "https://localhost:8080/"
        },
        "id": "SaPkyz4hwlWr",
        "outputId": "65501f5d-5cf4-4fef-b1a4-edb7c2a69686"
      },
      "execution_count": 66,
      "outputs": [
        {
          "output_type": "stream",
          "name": "stdout",
          "text": [
            "Name: Nitish\n",
            "Salary: 1000000\n"
          ]
        }
      ]
    },
    {
      "cell_type": "code",
      "source": [
        "e1.name\n",
        "e1.salary\n",
        "#Both are unaccessable directly"
      ],
      "metadata": {
        "colab": {
          "base_uri": "https://localhost:8080/",
          "height": 176
        },
        "id": "9TLS7PTqwsUj",
        "outputId": "c0ded5fc-d0b9-4614-b265-4680de221685"
      },
      "execution_count": 68,
      "outputs": [
        {
          "output_type": "error",
          "ename": "AttributeError",
          "evalue": "'Company' object has no attribute 'name'",
          "traceback": [
            "\u001b[0;31m---------------------------------------------------------------------------\u001b[0m",
            "\u001b[0;31mAttributeError\u001b[0m                            Traceback (most recent call last)",
            "\u001b[0;32m<ipython-input-68-74911f59d793>\u001b[0m in \u001b[0;36m<cell line: 1>\u001b[0;34m()\u001b[0m\n\u001b[0;32m----> 1\u001b[0;31m \u001b[0me1\u001b[0m\u001b[0;34m.\u001b[0m\u001b[0mname\u001b[0m\u001b[0;34m\u001b[0m\u001b[0;34m\u001b[0m\u001b[0m\n\u001b[0m\u001b[1;32m      2\u001b[0m \u001b[0me1\u001b[0m\u001b[0;34m.\u001b[0m\u001b[0msalary\u001b[0m\u001b[0;34m\u001b[0m\u001b[0;34m\u001b[0m\u001b[0m\n\u001b[1;32m      3\u001b[0m \u001b[0;31m#Both are unaccessable directly\u001b[0m\u001b[0;34m\u001b[0m\u001b[0;34m\u001b[0m\u001b[0m\n",
            "\u001b[0;31mAttributeError\u001b[0m: 'Company' object has no attribute 'name'"
          ]
        }
      ]
    },
    {
      "cell_type": "code",
      "source": [
        "#Protected method\n",
        "class Company():\n",
        "  def _detail(self):\n",
        "    print(\"Physics Wallah\")\n",
        "\n",
        "class Employee(Company):\n",
        "  def __init__(self,name,salary):\n",
        "    self.name=name\n",
        "    self.salary=salary\n",
        "\n",
        "  def show_details(self):\n",
        "    self._detail()\n",
        "    print(f\"Name: {self.name}\\nSalary: {self.salary}\")"
      ],
      "metadata": {
        "id": "bc2j8LX_w59s"
      },
      "execution_count": 69,
      "outputs": []
    },
    {
      "cell_type": "code",
      "source": [
        "c1=Employee(\"Nitish\",1000000)"
      ],
      "metadata": {
        "id": "GmZ8r6HyFila"
      },
      "execution_count": 70,
      "outputs": []
    },
    {
      "cell_type": "code",
      "source": [
        "c1.show_details()"
      ],
      "metadata": {
        "colab": {
          "base_uri": "https://localhost:8080/"
        },
        "id": "J7lqjG5uFlrw",
        "outputId": "5c3a8e29-2f02-4969-fb65-c92054e74d81"
      },
      "execution_count": 71,
      "outputs": [
        {
          "output_type": "stream",
          "name": "stdout",
          "text": [
            "Physics Wallah\n",
            "Name: Nitish\n",
            "Salary: 1000000\n"
          ]
        }
      ]
    },
    {
      "cell_type": "code",
      "source": [
        "c2=Company()"
      ],
      "metadata": {
        "id": "Yc_bHFscFoUY"
      },
      "execution_count": 72,
      "outputs": []
    },
    {
      "cell_type": "code",
      "source": [
        "c2.detail()\n",
        "#Unaccessible"
      ],
      "metadata": {
        "colab": {
          "base_uri": "https://localhost:8080/",
          "height": 158
        },
        "id": "h4Q6I1RLFrdg",
        "outputId": "157772d4-4604-4f42-b025-851fb2b2e36c"
      },
      "execution_count": 73,
      "outputs": [
        {
          "output_type": "error",
          "ename": "AttributeError",
          "evalue": "'Company' object has no attribute 'detail'",
          "traceback": [
            "\u001b[0;31m---------------------------------------------------------------------------\u001b[0m",
            "\u001b[0;31mAttributeError\u001b[0m                            Traceback (most recent call last)",
            "\u001b[0;32m<ipython-input-73-349db4db0b12>\u001b[0m in \u001b[0;36m<cell line: 1>\u001b[0;34m()\u001b[0m\n\u001b[0;32m----> 1\u001b[0;31m \u001b[0mc2\u001b[0m\u001b[0;34m.\u001b[0m\u001b[0mdetail\u001b[0m\u001b[0;34m(\u001b[0m\u001b[0;34m)\u001b[0m\u001b[0;34m\u001b[0m\u001b[0;34m\u001b[0m\u001b[0m\n\u001b[0m\u001b[1;32m      2\u001b[0m \u001b[0;31m#Unaccessible\u001b[0m\u001b[0;34m\u001b[0m\u001b[0;34m\u001b[0m\u001b[0m\n",
            "\u001b[0;31mAttributeError\u001b[0m: 'Company' object has no attribute 'detail'"
          ]
        }
      ]
    },
    {
      "cell_type": "markdown",
      "source": [
        "6. Describe the five types of inheritance in Python. Provide a simple example of multiple inheritance."
      ],
      "metadata": {
        "id": "cebYBEWUF4Yr"
      }
    },
    {
      "cell_type": "markdown",
      "source": [
        "Ans: Inheritance is a mechanism that allows one class to inherit the properties and behavior of another class. There are five types of inheritance in Python: single inheritance, multiple inheritance, multilevel inheritance, hierarchical inheritance, and hybrid inheritance.\n",
        "1. Single Inheritance:\n",
        "In single inheritance, a child class inherits from a single parent class. The child class inherits all the attributes and methods of the parent class.\n",
        "\n",
        "2. Multiple Inheritance:\n",
        "In multiple inheritance, a child class can inherit from multiple parent classes. This allows the child class to inherit attributes and methods from multiple sources.\n",
        "\n",
        "3. Multilevel Inheritance:\n",
        "In multilevel inheritance, a child class inherits from a parent class, which itself inherits from another parent class. This creates a hierarchy of inheritance.\n",
        "\n",
        "4. Hierarchical Inheritance:\n",
        "In hierarchical inheritance, multiple child classes inherit from a single parent class. This creates a tree-like structure of inheritance.\n",
        "\n",
        "5. Hybrid Inheritance:\n",
        "In hybrid inheritance, a combination of multiple and multilevel inheritance is used. This allows for a complex hierarchy of inheritance."
      ],
      "metadata": {
        "id": "dsipkisdHsSb"
      }
    },
    {
      "cell_type": "code",
      "source": [
        "#Multiple inheritance\n",
        "\n",
        "class Dog():\n",
        "  def show_dog(self):\n",
        "    print(\"This is dog class\")\n",
        "\n",
        "class Cat():\n",
        "  def show_cat(self):\n",
        "    print(\"This is cat class\")\n",
        "\n",
        "class Animal(Dog,Cat):\n",
        "  def show_animal(self):\n",
        "    print(\"This is animal class\")"
      ],
      "metadata": {
        "id": "eYkrOINQKD3h"
      },
      "execution_count": 74,
      "outputs": []
    },
    {
      "cell_type": "code",
      "source": [
        "a1=Animal()"
      ],
      "metadata": {
        "id": "ZruElO-BUs18"
      },
      "execution_count": 75,
      "outputs": []
    },
    {
      "cell_type": "code",
      "source": [
        "a1.show_dog()\n",
        "a1.show_cat()\n",
        "a1.show_animal()"
      ],
      "metadata": {
        "colab": {
          "base_uri": "https://localhost:8080/"
        },
        "id": "ncf8wLLVUwG1",
        "outputId": "cc3c247e-bb9b-4d07-c07f-8b02ae445316"
      },
      "execution_count": 76,
      "outputs": [
        {
          "output_type": "stream",
          "name": "stdout",
          "text": [
            "This is dog class\n",
            "This is cat class\n",
            "This is animal class\n"
          ]
        }
      ]
    },
    {
      "cell_type": "markdown",
      "source": [
        "7. What is the Method Resolution Order (MRO) in Python? How can you retrieve it programmatically?"
      ],
      "metadata": {
        "id": "4GXmt5qRi1Ww"
      }
    },
    {
      "cell_type": "markdown",
      "source": [
        "Ans: The Method Resolution Order (MRO) in Python is the order in which Python searches for a method or attribute in a class and its parent classes. It's a mechanism that determines the order of inheritance when a class has multiple base classes. The MRO is used to resolve method calls, attribute accesses, and other operations that involve inheritance."
      ],
      "metadata": {
        "id": "0vAwlvhJkqA5"
      }
    },
    {
      "cell_type": "code",
      "source": [
        "class A():\n",
        "  pass\n",
        "\n",
        "class B(A):\n",
        "  pass\n",
        "\n",
        "class C(B):\n",
        "  pass\n"
      ],
      "metadata": {
        "id": "2mRDnfzni652"
      },
      "execution_count": 77,
      "outputs": []
    },
    {
      "cell_type": "code",
      "source": [
        "print(C.__mro__)"
      ],
      "metadata": {
        "colab": {
          "base_uri": "https://localhost:8080/"
        },
        "id": "26H2NPXXlNnI",
        "outputId": "de459b05-e9dd-4702-addf-bc51f26c9903"
      },
      "execution_count": 78,
      "outputs": [
        {
          "output_type": "stream",
          "name": "stdout",
          "text": [
            "(<class '__main__.C'>, <class '__main__.B'>, <class '__main__.A'>, <class 'object'>)\n"
          ]
        }
      ]
    },
    {
      "cell_type": "code",
      "source": [],
      "metadata": {
        "id": "8ZjmS-a3lasg"
      },
      "execution_count": 78,
      "outputs": []
    },
    {
      "cell_type": "markdown",
      "source": [
        "8. Create an abstract base class `Shape` with an abstract method `area()`. Then create two subclasses\n",
        "`Circle` and `Rectangle` that implement the `area()` method."
      ],
      "metadata": {
        "id": "NnN5E-9qnsjR"
      }
    },
    {
      "cell_type": "code",
      "source": [
        "from abc import ABC,abstractmethod\n",
        "\n",
        "class Shape(ABC):\n",
        "  @abstractmethod\n",
        "  def area(self):\n",
        "    pass\n",
        "\n",
        "class Circle(Shape):\n",
        "  def __init__(self,radius):\n",
        "    self.radius=radius\n",
        "\n",
        "  def area(self):\n",
        "    print( 3.14*self.radius**2)\n",
        "\n",
        "class Rectangle(Shape):\n",
        "  def __init__(self,length,breadth):\n",
        "    self.length=length\n",
        "    self.breadth=breadth\n",
        "\n",
        "  def area(self):\n",
        "    print( self.length*self.breadth)"
      ],
      "metadata": {
        "id": "dYeFVSHCnusx"
      },
      "execution_count": 79,
      "outputs": []
    },
    {
      "cell_type": "code",
      "source": [
        "circle1=Circle(5)"
      ],
      "metadata": {
        "id": "4gLzpsxxoREy"
      },
      "execution_count": 80,
      "outputs": []
    },
    {
      "cell_type": "code",
      "source": [
        "circle1.area()"
      ],
      "metadata": {
        "colab": {
          "base_uri": "https://localhost:8080/"
        },
        "id": "JRjdmLjLfjmR",
        "outputId": "4029ee8d-cf43-4e42-e867-6133a0ae2775"
      },
      "execution_count": 81,
      "outputs": [
        {
          "output_type": "stream",
          "name": "stdout",
          "text": [
            "78.5\n"
          ]
        }
      ]
    },
    {
      "cell_type": "code",
      "source": [
        "rectangle1=Rectangle(10,5)"
      ],
      "metadata": {
        "id": "n1Vt91CVfmAI"
      },
      "execution_count": 82,
      "outputs": []
    },
    {
      "cell_type": "code",
      "source": [
        "rectangle1.area()"
      ],
      "metadata": {
        "colab": {
          "base_uri": "https://localhost:8080/"
        },
        "id": "5zCn0kRzfp2p",
        "outputId": "8993ad92-f507-4436-e01f-1f59da3cb677"
      },
      "execution_count": 83,
      "outputs": [
        {
          "output_type": "stream",
          "name": "stdout",
          "text": [
            "50\n"
          ]
        }
      ]
    },
    {
      "cell_type": "markdown",
      "source": [
        "9. Demonstrate polymorphism by creating a function that can work with different shape objects to calculate\n",
        "and print their areas.\n",
        "\n",
        "\n"
      ],
      "metadata": {
        "id": "WDJwj_THfuNr"
      }
    },
    {
      "cell_type": "code",
      "source": [
        "# class Shape():\n",
        "#   def area(self):\n",
        "#     pass\n",
        "\n",
        "class Rectangle():\n",
        "  def __init__(self,length,breadth):\n",
        "    self.length=length\n",
        "    self.breadth=breadth\n",
        "\n",
        "  def area(self):\n",
        "    return self.length*self.breadth\n",
        "\n",
        "class Circle():\n",
        "  def __init__(self,radius):\n",
        "    self.radius=radius\n",
        "\n",
        "  def area(self):\n",
        "    return 3.14*self.radius**2\n",
        "\n",
        "class Triangle():\n",
        "  def __init__(self,base,height):\n",
        "    self.base=base\n",
        "    self.height=height\n",
        "\n",
        "  def area(self):\n",
        "    return 0.5*self.base*self.height\n",
        "\n",
        "def Print_area(shape):\n",
        "  print(f\"Area of {shape.__class__.__name__} is {shape.area()}\")"
      ],
      "metadata": {
        "id": "ZpC8kjZxfsfY"
      },
      "execution_count": 84,
      "outputs": []
    },
    {
      "cell_type": "code",
      "source": [
        "rectangle=Rectangle(10,5)\n",
        "circle=Circle(5)\n",
        "triangle=Triangle(10,5)"
      ],
      "metadata": {
        "id": "Uaz4fYsTm_mj"
      },
      "execution_count": 85,
      "outputs": []
    },
    {
      "cell_type": "code",
      "source": [
        "Print_area(rectangle)\n",
        "Print_area(circle)\n",
        "Print_area(triangle)"
      ],
      "metadata": {
        "colab": {
          "base_uri": "https://localhost:8080/"
        },
        "id": "nUQgrWLPncqT",
        "outputId": "3b861822-bce1-4b42-91fe-13e137b67088"
      },
      "execution_count": 86,
      "outputs": [
        {
          "output_type": "stream",
          "name": "stdout",
          "text": [
            "Area of Rectangle is 50\n",
            "Area of Circle is 78.5\n",
            "Area of Triangle is 25.0\n"
          ]
        }
      ]
    },
    {
      "cell_type": "markdown",
      "source": [
        "10. Implement encapsulation in a `BankAccount` class with private attributes for `balance` and\n",
        "`account_number`. Include methods for deposit, withdrawal, and balance inquiry."
      ],
      "metadata": {
        "id": "AXfzJEHZqTof"
      }
    },
    {
      "cell_type": "code",
      "source": [
        "class Bank_account():\n",
        "  def __init__(self,balance,account_number):\n",
        "    self.__balance=balance\n",
        "    self.__account_number=account_number\n",
        "\n",
        "  def deposit(self,amount):\n",
        "    self.__balance+=amount\n",
        "\n",
        "  def withdrawal(self,amount):\n",
        "    if self.__balance>=amount:\n",
        "      self.__balance-=amount\n",
        "    else:\n",
        "      print(\"Insufficient balance\")\n",
        "\n",
        "  def current_balance(self):\n",
        "    return self.__balance\n",
        "\n",
        "  def account_detail(self):\n",
        "    print(f\"Account number: {self.__account_number}\\nBalance: {self.__balance}\")"
      ],
      "metadata": {
        "id": "Ju2RCwFYnoIM"
      },
      "execution_count": 87,
      "outputs": []
    },
    {
      "cell_type": "code",
      "source": [
        "c1=Bank_account(1000,123456789)"
      ],
      "metadata": {
        "id": "q_FlCazLv7lz"
      },
      "execution_count": 88,
      "outputs": []
    },
    {
      "cell_type": "code",
      "source": [
        "c1.deposit(1000)\n",
        "c1.account_detail()"
      ],
      "metadata": {
        "colab": {
          "base_uri": "https://localhost:8080/"
        },
        "id": "tjav_gEcwA7S",
        "outputId": "81ec6a7b-f6f3-4262-924a-eac49a8a4ae9"
      },
      "execution_count": 89,
      "outputs": [
        {
          "output_type": "stream",
          "name": "stdout",
          "text": [
            "Account number: 123456789\n",
            "Balance: 2000\n"
          ]
        }
      ]
    },
    {
      "cell_type": "markdown",
      "source": [
        "11. Write a class that overrides the `__str__` and `__add__` magic methods. What will these methods allow\n",
        "you to do?"
      ],
      "metadata": {
        "id": "8TG4nj3pwVCe"
      }
    },
    {
      "cell_type": "code",
      "source": [
        "class Over_ride():\n",
        "  def __init__(self,name):\n",
        "    self.name=name\n",
        "\n",
        "  def __str__(self):\n",
        "    print( f\"Name: {self.name}\")\n",
        "\n",
        "  def __add__(self):\n",
        "    print(\"This function does not add\")"
      ],
      "metadata": {
        "id": "rJLUEXRJwOcz"
      },
      "execution_count": 90,
      "outputs": []
    },
    {
      "cell_type": "code",
      "source": [
        "c1=Over_ride(\"nitish\")"
      ],
      "metadata": {
        "id": "HqgREYh99jo6"
      },
      "execution_count": 91,
      "outputs": []
    },
    {
      "cell_type": "code",
      "source": [
        "c1.__str__()"
      ],
      "metadata": {
        "colab": {
          "base_uri": "https://localhost:8080/"
        },
        "id": "xrMLpEEi9pQU",
        "outputId": "90d41bde-f7d6-4374-ca04-f9f6258df5f9"
      },
      "execution_count": 92,
      "outputs": [
        {
          "output_type": "stream",
          "name": "stdout",
          "text": [
            "Name: nitish\n"
          ]
        }
      ]
    },
    {
      "cell_type": "code",
      "source": [
        "c1.__add__()"
      ],
      "metadata": {
        "colab": {
          "base_uri": "https://localhost:8080/"
        },
        "id": "VLiUUh_q9rms",
        "outputId": "9795d13d-9068-4636-882e-80e3e39aa012"
      },
      "execution_count": 93,
      "outputs": [
        {
          "output_type": "stream",
          "name": "stdout",
          "text": [
            "This function does not add\n"
          ]
        }
      ]
    },
    {
      "cell_type": "markdown",
      "source": [
        "12. Create a decorator that measures and prints the execution time of a function."
      ],
      "metadata": {
        "id": "z-Tygj_v-X-Y"
      }
    },
    {
      "cell_type": "code",
      "source": [
        "import time\n",
        "from functools import wraps\n",
        "\n",
        "def timeit(func):\n",
        "    @wraps(func)\n",
        "    def timeit_wrapper(*args, **kwargs):\n",
        "        start_time = time.perf_counter()\n",
        "        result = func(*args, **kwargs)\n",
        "        end_time = time.perf_counter()\n",
        "        total_time = end_time - start_time\n",
        "        print(f'Function {func.__name__} took {total_time:.4f} seconds')\n",
        "        return result\n",
        "    return timeit_wrapper\n",
        "\n",
        "@timeit\n",
        "def example_function(n):\n",
        "    total = sum(range(n))\n",
        "    return total\n",
        "\n",
        "example_function(1000000)\n"
      ],
      "metadata": {
        "colab": {
          "base_uri": "https://localhost:8080/"
        },
        "id": "NhHCzYGM93Sy",
        "outputId": "5bbaaffa-1f2f-433b-e217-42e7cf864b70"
      },
      "execution_count": 94,
      "outputs": [
        {
          "output_type": "stream",
          "name": "stdout",
          "text": [
            "Function example_function took 0.0201 seconds\n"
          ]
        },
        {
          "output_type": "execute_result",
          "data": {
            "text/plain": [
              "499999500000"
            ]
          },
          "metadata": {},
          "execution_count": 94
        }
      ]
    },
    {
      "cell_type": "markdown",
      "source": [
        "13. Explain the concept of the Diamond Problem in multiple inheritance. How does Python resolve it?"
      ],
      "metadata": {
        "id": "Gu76XhOHOdN4"
      }
    },
    {
      "cell_type": "markdown",
      "source": [
        "Ans: The Diamond Problem occurs in object-oriented programming languages that support multiple inheritance. It arises when a class inherits from two or more classes that have a common base class, forming a diamond shape in the inheritance hierarchy.\n",
        "\n",
        "\n",
        "Python resolves the Diamond Problem using the Method Resolution Order (MRO), which ensures a consistent and clear method lookup process. MRO is determined using the C3 Linearization algorithm, which creates a linear order for method resolution by considering the hierarchy and dependencies between the classes."
      ],
      "metadata": {
        "id": "jaHz4ig5O2bS"
      }
    },
    {
      "cell_type": "markdown",
      "source": [
        "14. Write a class method that keeps track of the number of instances created from a class."
      ],
      "metadata": {
        "id": "wjrZyL6FO9sg"
      }
    },
    {
      "cell_type": "code",
      "source": [
        "class InstanceTracker:\n",
        "    instance_count = 0\n",
        "\n",
        "    def __init__(self):\n",
        "        InstanceTracker.instance_count += 1\n",
        "\n",
        "    @classmethod\n",
        "    def get_instance_count(cls):\n",
        "        return cls.instance_count\n"
      ],
      "metadata": {
        "id": "Ya8ih1UiOanX"
      },
      "execution_count": 95,
      "outputs": []
    },
    {
      "cell_type": "code",
      "source": [
        "obj1 = InstanceTracker()\n",
        "obj2 = InstanceTracker()\n",
        "obj3 = InstanceTracker()\n",
        "\n",
        "print(InstanceTracker.get_instance_count())"
      ],
      "metadata": {
        "colab": {
          "base_uri": "https://localhost:8080/"
        },
        "id": "TFbK8EyHR2xJ",
        "outputId": "3875ca0e-ecbd-4e3e-8ed5-38041de9bb4f"
      },
      "execution_count": 96,
      "outputs": [
        {
          "output_type": "stream",
          "name": "stdout",
          "text": [
            "3\n"
          ]
        }
      ]
    },
    {
      "cell_type": "markdown",
      "source": [
        "15. Implement a static method in a class that checks if a given year is a leap year."
      ],
      "metadata": {
        "id": "fU69tXvkR5KL"
      }
    },
    {
      "cell_type": "code",
      "source": [
        "class Leapyear():\n",
        "  def __init__(self,year):\n",
        "    self.year=year\n",
        "\n",
        "  @staticmethod\n",
        "  def check_year(year):\n",
        "    if (year % 4 == 0 and year % 100 != 0) or (year % 400 == 0):\n",
        "      return True\n",
        "    else:\n",
        "      return False"
      ],
      "metadata": {
        "id": "nII7MuonR354"
      },
      "execution_count": 97,
      "outputs": []
    },
    {
      "cell_type": "code",
      "source": [
        "l1=Leapyear(2024)"
      ],
      "metadata": {
        "id": "gVCs82SbSYa3"
      },
      "execution_count": 98,
      "outputs": []
    },
    {
      "cell_type": "code",
      "source": [
        "l1.check_year(l1.year)"
      ],
      "metadata": {
        "colab": {
          "base_uri": "https://localhost:8080/"
        },
        "id": "PiymKx5gSazH",
        "outputId": "f2d5051e-6efb-45d3-d265-e5fbfbd5a3a9"
      },
      "execution_count": 99,
      "outputs": [
        {
          "output_type": "execute_result",
          "data": {
            "text/plain": [
              "True"
            ]
          },
          "metadata": {},
          "execution_count": 99
        }
      ]
    },
    {
      "cell_type": "code",
      "source": [],
      "metadata": {
        "id": "a7VT17hLXvbU"
      },
      "execution_count": 99,
      "outputs": []
    }
  ]
}