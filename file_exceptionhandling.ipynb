{
  "nbformat": 4,
  "nbformat_minor": 0,
  "metadata": {
    "colab": {
      "provenance": []
    },
    "kernelspec": {
      "name": "python3",
      "display_name": "Python 3"
    },
    "language_info": {
      "name": "python"
    }
  },
  "cells": [
    {
      "cell_type": "markdown",
      "source": [
        "4. Write a Python program using multithreading where one thread adds numbers to a list, and another\n",
        "thread removes numbers from the list. Implement a mechanism to avoid race conditions using\n",
        "threading.Lock."
      ],
      "metadata": {
        "id": "Up_tloN0kih3"
      }
    },
    {
      "cell_type": "code",
      "execution_count": 11,
      "metadata": {
        "id": "67hgg3caOoLX"
      },
      "outputs": [],
      "source": [
        "import threading\n",
        "import random"
      ]
    },
    {
      "cell_type": "code",
      "source": [
        "rand_num=[]\n",
        "lock=threading.Lock()\n",
        "\n",
        "def add_num():\n",
        "  for i in range(10):\n",
        "    with lock:\n",
        "      rand_num.append(random.randint(0,100))\n",
        "\n",
        "def remove_num():\n",
        "  for i in range(len(rand_num)):\n",
        "    with lock:\n",
        "      rand_num.pop(0)\n",
        "\n",
        "thread1=threading.Thread(target=add_num)\n",
        "thread2=threading.Thread(target=remove_num)\n",
        "\n",
        "thread1.start()\n",
        "thread2.start()\n",
        "\n",
        "thread1.join()\n",
        "thread2.join()\n",
        "\n",
        "print(rand_num)"
      ],
      "metadata": {
        "colab": {
          "base_uri": "https://localhost:8080/"
        },
        "id": "jSU_XR88k7ye",
        "outputId": "652819f5-f1fc-4444-d4b1-497610cd8e01"
      },
      "execution_count": 12,
      "outputs": [
        {
          "output_type": "stream",
          "name": "stdout",
          "text": [
            "[]\n"
          ]
        }
      ]
    },
    {
      "cell_type": "markdown",
      "source": [
        "7. Create a program that uses a thread pool to calculate the factorial of numbers from 1 to 10 concurrently.\n",
        "Use concurrent.futures.ThreadPoolExecutor to manage the threads.\n",
        "\n",
        "\n"
      ],
      "metadata": {
        "id": "Pq_PQUCm-rG-"
      }
    },
    {
      "cell_type": "code",
      "source": [
        "import concurrent.futures\n",
        "import math\n",
        "\n",
        "def calculate_factorial(n):\n",
        "    return math.factorial(n)\n",
        "\n",
        "def main():\n",
        "    numbers = range(1, 11)\n",
        "    with concurrent.futures.ThreadPoolExecutor() as executor:\n",
        "        results = executor.map(calculate_factorial, numbers)\n",
        "\n",
        "    for number, factorial in zip(numbers, results):\n",
        "        print(f\"The factorial of {number} is {factorial}\")\n",
        "\n",
        "if __name__ == \"__main__\":\n",
        "    main()"
      ],
      "metadata": {
        "colab": {
          "base_uri": "https://localhost:8080/"
        },
        "id": "RrUl01EhlzOV",
        "outputId": "ce2d113f-e7af-4c06-cbe4-b580d9e311f9"
      },
      "execution_count": 13,
      "outputs": [
        {
          "output_type": "stream",
          "name": "stdout",
          "text": [
            "The factorial of 1 is 1\n",
            "The factorial of 2 is 2\n",
            "The factorial of 3 is 6\n",
            "The factorial of 4 is 24\n",
            "The factorial of 5 is 120\n",
            "The factorial of 6 is 720\n",
            "The factorial of 7 is 5040\n",
            "The factorial of 8 is 40320\n",
            "The factorial of 9 is 362880\n",
            "The factorial of 10 is 3628800\n"
          ]
        }
      ]
    },
    {
      "cell_type": "code",
      "source": [],
      "metadata": {
        "id": "PlgnstxB-qeP"
      },
      "execution_count": 13,
      "outputs": []
    },
    {
      "cell_type": "markdown",
      "source": [
        "8. Create a Python program that uses multiprocessing.Pool to compute the square of numbers from 1 to 10 in\n",
        "parallel. Measure the time taken to perform this computation using a pool of different sizes (e.g., 2, 4, 8\n",
        "processes)."
      ],
      "metadata": {
        "id": "gw_HoZoW_Lie"
      }
    },
    {
      "cell_type": "code",
      "source": [
        "import multiprocessing\n",
        "import time\n",
        "\n",
        "def square(n):\n",
        "    return n * n\n",
        "\n",
        "def compute_squares(pool_size):\n",
        "    with multiprocessing.Pool(processes=pool_size) as pool:\n",
        "        start_time = time.time()\n",
        "        results = pool.map(square, range(1, 11))\n",
        "\n",
        "        end_time = time.time()\n",
        "\n",
        "        print(f\"Results with pool size {pool_size}: {results}\")\n",
        "        print(f\"Time taken with pool size {pool_size}: {end_time - start_time:.4f} seconds\")\n",
        "\n",
        "def main():\n",
        "    pool_sizes = [2, 4, 8]\n",
        "\n",
        "    for size in pool_sizes:\n",
        "        compute_squares(size)\n",
        "\n",
        "if __name__ == \"__main__\":\n",
        "    main()"
      ],
      "metadata": {
        "colab": {
          "base_uri": "https://localhost:8080/"
        },
        "id": "vAUx2XXqDkNI",
        "outputId": "b3a947b7-c637-4041-ac08-34006f15bcaa"
      },
      "execution_count": 14,
      "outputs": [
        {
          "output_type": "stream",
          "name": "stdout",
          "text": [
            "Results with pool size 2: [1, 4, 9, 16, 25, 36, 49, 64, 81, 100]\n",
            "Time taken with pool size 2: 0.0130 seconds\n",
            "Results with pool size 4: [1, 4, 9, 16, 25, 36, 49, 64, 81, 100]\n",
            "Time taken with pool size 4: 0.0019 seconds\n",
            "Results with pool size 8: [1, 4, 9, 16, 25, 36, 49, 64, 81, 100]\n",
            "Time taken with pool size 8: 0.0029 seconds\n"
          ]
        }
      ]
    },
    {
      "cell_type": "code",
      "source": [],
      "metadata": {
        "id": "qI7PMVSfDxPV"
      },
      "execution_count": 14,
      "outputs": []
    }
  ]
}